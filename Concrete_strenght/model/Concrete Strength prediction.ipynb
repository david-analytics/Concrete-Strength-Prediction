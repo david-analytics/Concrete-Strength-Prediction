{
 "cells": [
  {
   "cell_type": "code",
   "execution_count": 1,
   "id": "6d0f8f40",
   "metadata": {},
   "outputs": [],
   "source": [
    "import pandas as pd\n",
    "import numpy as np\n",
    "import matplotlib.pyplot as plt\n",
    "from sklearn.model_selection import train_test_split\n",
    "from sklearn.ensemble import RandomForestRegressor\n",
    "from xgboost import XGBRegressor\n",
    "import seaborn as sns"
   ]
  },
  {
   "cell_type": "code",
   "execution_count": 2,
   "id": "930525c5",
   "metadata": {},
   "outputs": [],
   "source": [
    "df = pd.read_csv('concrete_data.csv')"
   ]
  },
  {
   "cell_type": "code",
   "execution_count": 3,
   "id": "88ec17d2",
   "metadata": {},
   "outputs": [
    {
     "data": {
      "text/plain": [
       "cement                           0\n",
       "blast_furnace_slag               0\n",
       "fly_ash                          0\n",
       "water                            0\n",
       "superplasticizer                 0\n",
       "coarse_aggregate                 0\n",
       "fine_aggregate                   0\n",
       "age                              0\n",
       "concrete_compressive_strength    0\n",
       "dtype: int64"
      ]
     },
     "execution_count": 3,
     "metadata": {},
     "output_type": "execute_result"
    }
   ],
   "source": [
    "#checking for missing values\n",
    "\n",
    "df.isnull().sum()"
   ]
  },
  {
   "cell_type": "code",
   "execution_count": 4,
   "id": "1e4c20c3",
   "metadata": {},
   "outputs": [
    {
     "data": {
      "text/html": [
       "<div>\n",
       "<style scoped>\n",
       "    .dataframe tbody tr th:only-of-type {\n",
       "        vertical-align: middle;\n",
       "    }\n",
       "\n",
       "    .dataframe tbody tr th {\n",
       "        vertical-align: top;\n",
       "    }\n",
       "\n",
       "    .dataframe thead th {\n",
       "        text-align: right;\n",
       "    }\n",
       "</style>\n",
       "<table border=\"1\" class=\"dataframe\">\n",
       "  <thead>\n",
       "    <tr style=\"text-align: right;\">\n",
       "      <th></th>\n",
       "      <th>cement</th>\n",
       "      <th>blast_furnace_slag</th>\n",
       "      <th>fly_ash</th>\n",
       "      <th>water</th>\n",
       "      <th>superplasticizer</th>\n",
       "      <th>coarse_aggregate</th>\n",
       "      <th>fine_aggregate</th>\n",
       "      <th>age</th>\n",
       "      <th>concrete_compressive_strength</th>\n",
       "    </tr>\n",
       "  </thead>\n",
       "  <tbody>\n",
       "    <tr>\n",
       "      <th>0</th>\n",
       "      <td>540.0</td>\n",
       "      <td>0.0</td>\n",
       "      <td>0.0</td>\n",
       "      <td>162.0</td>\n",
       "      <td>2.5</td>\n",
       "      <td>1040.0</td>\n",
       "      <td>676.0</td>\n",
       "      <td>28</td>\n",
       "      <td>79.99</td>\n",
       "    </tr>\n",
       "    <tr>\n",
       "      <th>1</th>\n",
       "      <td>540.0</td>\n",
       "      <td>0.0</td>\n",
       "      <td>0.0</td>\n",
       "      <td>162.0</td>\n",
       "      <td>2.5</td>\n",
       "      <td>1055.0</td>\n",
       "      <td>676.0</td>\n",
       "      <td>28</td>\n",
       "      <td>61.89</td>\n",
       "    </tr>\n",
       "    <tr>\n",
       "      <th>2</th>\n",
       "      <td>332.5</td>\n",
       "      <td>142.5</td>\n",
       "      <td>0.0</td>\n",
       "      <td>228.0</td>\n",
       "      <td>0.0</td>\n",
       "      <td>932.0</td>\n",
       "      <td>594.0</td>\n",
       "      <td>270</td>\n",
       "      <td>40.27</td>\n",
       "    </tr>\n",
       "    <tr>\n",
       "      <th>3</th>\n",
       "      <td>332.5</td>\n",
       "      <td>142.5</td>\n",
       "      <td>0.0</td>\n",
       "      <td>228.0</td>\n",
       "      <td>0.0</td>\n",
       "      <td>932.0</td>\n",
       "      <td>594.0</td>\n",
       "      <td>365</td>\n",
       "      <td>41.05</td>\n",
       "    </tr>\n",
       "    <tr>\n",
       "      <th>4</th>\n",
       "      <td>198.6</td>\n",
       "      <td>132.4</td>\n",
       "      <td>0.0</td>\n",
       "      <td>192.0</td>\n",
       "      <td>0.0</td>\n",
       "      <td>978.4</td>\n",
       "      <td>825.5</td>\n",
       "      <td>360</td>\n",
       "      <td>44.30</td>\n",
       "    </tr>\n",
       "  </tbody>\n",
       "</table>\n",
       "</div>"
      ],
      "text/plain": [
       "   cement  blast_furnace_slag  fly_ash  water  superplasticizer  \\\n",
       "0   540.0                 0.0      0.0  162.0               2.5   \n",
       "1   540.0                 0.0      0.0  162.0               2.5   \n",
       "2   332.5               142.5      0.0  228.0               0.0   \n",
       "3   332.5               142.5      0.0  228.0               0.0   \n",
       "4   198.6               132.4      0.0  192.0               0.0   \n",
       "\n",
       "   coarse_aggregate  fine_aggregate   age  concrete_compressive_strength  \n",
       "0            1040.0            676.0   28                          79.99  \n",
       "1            1055.0            676.0   28                          61.89  \n",
       "2             932.0            594.0  270                          40.27  \n",
       "3             932.0            594.0  365                          41.05  \n",
       "4             978.4            825.5  360                          44.30  "
      ]
     },
     "execution_count": 4,
     "metadata": {},
     "output_type": "execute_result"
    }
   ],
   "source": [
    "df.head()"
   ]
  },
  {
   "cell_type": "code",
   "execution_count": 5,
   "id": "ad9a96a2",
   "metadata": {},
   "outputs": [
    {
     "name": "stdout",
     "output_type": "stream",
     "text": [
      "<class 'pandas.core.frame.DataFrame'>\n",
      "RangeIndex: 1030 entries, 0 to 1029\n",
      "Data columns (total 9 columns):\n",
      " #   Column                         Non-Null Count  Dtype  \n",
      "---  ------                         --------------  -----  \n",
      " 0   cement                         1030 non-null   float64\n",
      " 1   blast_furnace_slag             1030 non-null   float64\n",
      " 2   fly_ash                        1030 non-null   float64\n",
      " 3   water                          1030 non-null   float64\n",
      " 4   superplasticizer               1030 non-null   float64\n",
      " 5   coarse_aggregate               1030 non-null   float64\n",
      " 6   fine_aggregate                 1030 non-null   float64\n",
      " 7   age                            1030 non-null   int64  \n",
      " 8   concrete_compressive_strength  1030 non-null   float64\n",
      "dtypes: float64(8), int64(1)\n",
      "memory usage: 72.5 KB\n"
     ]
    }
   ],
   "source": [
    "df.info()"
   ]
  },
  {
   "cell_type": "code",
   "execution_count": 6,
   "id": "481f6760",
   "metadata": {},
   "outputs": [
    {
     "data": {
      "text/plain": [
       "array([[<AxesSubplot:title={'center':'cement'}>,\n",
       "        <AxesSubplot:title={'center':'blast_furnace_slag'}>,\n",
       "        <AxesSubplot:title={'center':'fly_ash'}>],\n",
       "       [<AxesSubplot:title={'center':'water'}>,\n",
       "        <AxesSubplot:title={'center':'superplasticizer'}>,\n",
       "        <AxesSubplot:title={'center':'coarse_aggregate'}>],\n",
       "       [<AxesSubplot:title={'center':'fine_aggregate '}>,\n",
       "        <AxesSubplot:title={'center':'age'}>,\n",
       "        <AxesSubplot:title={'center':'concrete_compressive_strength'}>]],\n",
       "      dtype=object)"
      ]
     },
     "execution_count": 6,
     "metadata": {},
     "output_type": "execute_result"
    },
    {
     "data": {
      "image/png": "[encoded data removed]",
      "text/plain": [
       "<Figure size 1080x1080 with 9 Axes>"
      ]
     },
     "metadata": {
      "needs_background": "light"
     },
     "output_type": "display_data"
    }
   ],
   "source": [
    "# checking for histogram \n",
    "df.hist(figsize=(15, 15))"
   ]
  },
  {
   "cell_type": "code",
   "execution_count": 7,
   "id": "c11ee3f0",
   "metadata": {},
   "outputs": [
    {
     "data": {
      "text/plain": [
       "<AxesSubplot:title={'center':'Spearman rank Correlation Matrix'}>"
      ]
     },
     "execution_count": 7,
     "metadata": {},
     "output_type": "execute_result"
    },
    {
     "data": {
      "image/png": "[encoded data removed]",
      "text/plain": [
       "<Figure size 864x504 with 2 Axes>"
      ]
     },
     "metadata": {
      "needs_background": "light"
     },
     "output_type": "display_data"
    }
   ],
   "source": [
    "#Spearman rank correlation matrix to capture non linear relationships as well\n",
    "plt.figure(figsize=(12,7))\n",
    "plt.title('Spearman rank Correlation Matrix')\n",
    "sns.heatmap(df.corr(method = 'spearman'),annot=True, cmap = 'coolwarm')"
   ]
  },
  {
   "cell_type": "markdown",
   "id": "8582a681",
   "metadata": {},
   "source": [
    "## Inference\n",
    "\n",
    "- Age, Cement, super plasticizer and Blast furnace slag are in positive correlation to the Concrete compressive strength.\n",
    "- While water, coarse aggregae and fine aggregate are in negative correlation to the Concrete compressive strength.\n",
    "- Fly ash is having nearly 0 correlation with the target variable.\n",
    "- Super plasticizer is having negative correlation to the water."
   ]
  },
  {
   "cell_type": "code",
   "execution_count": 8,
   "id": "9b126845",
   "metadata": {
    "scrolled": false
   },
   "outputs": [],
   "source": [
    "#outliers check\n",
    "def outl(x):\n",
    "    plt.figure(figsize=(12,7))\n",
    "    plt.subplot(121)\n",
    "    plt.boxplot(df[x])\n",
    "    plt.subplot(122)\n",
    "    sns.distplot(df[x])\n",
    "    plt.tight_layout()\n",
    "    plt.show()"
   ]
  },
  {
   "cell_type": "code",
   "execution_count": 9,
   "id": "2c443fae",
   "metadata": {
    "scrolled": false
   },
   "outputs": [
    {
     "name": "stderr",
     "output_type": "stream",
     "text": [
      "C:\\Users\\User\\anaconda3\\anaconda\\lib\\site-packages\\seaborn\\distributions.py:2619: FutureWarning: `distplot` is a deprecated function and will be removed in a future version. Please adapt your code to use either `displot` (a figure-level function with similar flexibility) or `histplot` (an axes-level function for histograms).\n",
      "  warnings.warn(msg, FutureWarning)\n"
     ]
    },
    {
     "data": {
      "image/png": "[encoded data removed]",
      "text/plain": [
       "<Figure size 864x504 with 2 Axes>"
      ]
     },
     "metadata": {
      "needs_background": "light"
     },
     "output_type": "display_data"
    },
    {
     "name": "stderr",
     "output_type": "stream",
     "text": [
      "C:\\Users\\User\\anaconda3\\anaconda\\lib\\site-packages\\seaborn\\distributions.py:2619: FutureWarning: `distplot` is a deprecated function and will be removed in a future version. Please adapt your code to use either `displot` (a figure-level function with similar flexibility) or `histplot` (an axes-level function for histograms).\n",
      "  warnings.warn(msg, FutureWarning)\n"
     ]
    },
    {
     "data": {
      "image/png": "[encoded data removed]",
      "text/plain": [
       "<Figure size 864x504 with 2 Axes>"
      ]
     },
     "metadata": {
      "needs_background": "light"
     },
     "output_type": "display_data"
    },
    {
     "name": "stderr",
     "output_type": "stream",
     "text": [
      "C:\\Users\\User\\anaconda3\\anaconda\\lib\\site-packages\\seaborn\\distributions.py:2619: FutureWarning: `distplot` is a deprecated function and will be removed in a future version. Please adapt your code to use either `displot` (a figure-level function with similar flexibility) or `histplot` (an axes-level function for histograms).\n",
      "  warnings.warn(msg, FutureWarning)\n"
     ]
    },
    {
     "data": {
      "image/png": "[encoded data removed]",
      "text/plain": [
       "<Figure size 864x504 with 2 Axes>"
      ]
     },
     "metadata": {
      "needs_background": "light"
     },
     "output_type": "display_data"
    },
    {
     "name": "stderr",
     "output_type": "stream",
     "text": [
      "C:\\Users\\User\\anaconda3\\anaconda\\lib\\site-packages\\seaborn\\distributions.py:2619: FutureWarning: `distplot` is a deprecated function and will be removed in a future version. Please adapt your code to use either `displot` (a figure-level function with similar flexibility) or `histplot` (an axes-level function for histograms).\n",
      "  warnings.warn(msg, FutureWarning)\n"
     ]
    },
    {
     "data": {
      "image/png": "[encoded data removed]",
      "text/plain": [
       "<Figure size 864x504 with 2 Axes>"
      ]
     },
     "metadata": {
      "needs_background": "light"
     },
     "output_type": "display_data"
    },
    {
     "name": "stderr",
     "output_type": "stream",
     "text": [
      "C:\\Users\\User\\anaconda3\\anaconda\\lib\\site-packages\\seaborn\\distributions.py:2619: FutureWarning: `distplot` is a deprecated function and will be removed in a future version. Please adapt your code to use either `displot` (a figure-level function with similar flexibility) or `histplot` (an axes-level function for histograms).\n",
      "  warnings.warn(msg, FutureWarning)\n"
     ]
    },
    {
     "data": {
      "image/png": "[encoded data removed]",
      "text/plain": [
       "<Figure size 864x504 with 2 Axes>"
      ]
     },
     "metadata": {
      "needs_background": "light"
     },
     "output_type": "display_data"
    },
    {
     "name": "stderr",
     "output_type": "stream",
     "text": [
      "C:\\Users\\User\\anaconda3\\anaconda\\lib\\site-packages\\seaborn\\distributions.py:2619: FutureWarning: `distplot` is a deprecated function and will be removed in a future version. Please adapt your code to use either `displot` (a figure-level function with similar flexibility) or `histplot` (an axes-level function for histograms).\n",
      "  warnings.warn(msg, FutureWarning)\n"
     ]
    },
    {
     "data": {
      "image/png": "[encoded data removed]",
      "text/plain": [
       "<Figure size 864x504 with 2 Axes>"
      ]
     },
     "metadata": {
      "needs_background": "light"
     },
     "output_type": "display_data"
    },
    {
     "name": "stderr",
     "output_type": "stream",
     "text": [
      "C:\\Users\\User\\anaconda3\\anaconda\\lib\\site-packages\\seaborn\\distributions.py:2619: FutureWarning: `distplot` is a deprecated function and will be removed in a future version. Please adapt your code to use either `displot` (a figure-level function with similar flexibility) or `histplot` (an axes-level function for histograms).\n",
      "  warnings.warn(msg, FutureWarning)\n"
     ]
    },
    {
     "data": {
      "image/png": "[encoded data removed]",
      "text/plain": [
       "<Figure size 864x504 with 2 Axes>"
      ]
     },
     "metadata": {
      "needs_background": "light"
     },
     "output_type": "display_data"
    },
    {
     "name": "stderr",
     "output_type": "stream",
     "text": [
      "C:\\Users\\User\\anaconda3\\anaconda\\lib\\site-packages\\seaborn\\distributions.py:2619: FutureWarning: `distplot` is a deprecated function and will be removed in a future version. Please adapt your code to use either `displot` (a figure-level function with similar flexibility) or `histplot` (an axes-level function for histograms).\n",
      "  warnings.warn(msg, FutureWarning)\n"
     ]
    },
    {
     "data": {
      "image/png": "[encoded data removed]",
      "text/plain": [
       "<Figure size 864x504 with 2 Axes>"
      ]
     },
     "metadata": {
      "needs_background": "light"
     },
     "output_type": "display_data"
    },
    {
     "name": "stderr",
     "output_type": "stream",
     "text": [
      "C:\\Users\\User\\anaconda3\\anaconda\\lib\\site-packages\\seaborn\\distributions.py:2619: FutureWarning: `distplot` is a deprecated function and will be removed in a future version. Please adapt your code to use either `displot` (a figure-level function with similar flexibility) or `histplot` (an axes-level function for histograms).\n",
      "  warnings.warn(msg, FutureWarning)\n"
     ]
    },
    {
     "data": {
      "image/png": "[encoded data removed]",
      "text/plain": [
       "<Figure size 864x504 with 2 Axes>"
      ]
     },
     "metadata": {
      "needs_background": "light"
     },
     "output_type": "display_data"
    }
   ],
   "source": [
    "for col in df.columns:\n",
    "    outl(col)"
   ]
  },
  {
   "cell_type": "code",
   "execution_count": 10,
   "id": "d9ddbb96",
   "metadata": {},
   "outputs": [
    {
     "data": {
      "text/plain": [
       "count    1030.000000\n",
       "mean       45.662136\n",
       "std        63.169912\n",
       "min         1.000000\n",
       "25%         7.000000\n",
       "50%        28.000000\n",
       "75%        56.000000\n",
       "max       365.000000\n",
       "Name: age, dtype: float64"
      ]
     },
     "execution_count": 10,
     "metadata": {},
     "output_type": "execute_result"
    }
   ],
   "source": [
    "# checking age column\n",
    "df['age'].describe()"
   ]
  },
  {
   "cell_type": "code",
   "execution_count": 11,
   "id": "909f736a",
   "metadata": {},
   "outputs": [],
   "source": [
    "#remove in age outlier \n",
    "\n",
    "#using iqr method, considering both including and excluding the lower and upper limits into two separate dataframes, \n",
    "# then merging both the dataframes into one.\n",
    "# This increases the data size so that a Machine learning model can be trained efficiently.\n",
    "q1 = df['age'].quantile(0.25)\n",
    "q2 = df['age'].quantile(0.50)\n",
    "q3 = df['age'].quantile(0.75)\n",
    "IQR = q3-q1\n",
    "\n",
    "lower_limit = q1-1.5*IQR\n",
    "upper_limit = q3+1.5*IQR\n",
    "\n",
    "data_inc = df.loc[(df['age']>=lower_limit) & (df['age']<=upper_limit)]\n",
    "data_esc = df.loc[(df['age']>lower_limit) & (df['age']<upper_limit)]\n",
    "df = pd.concat([data_inc,data_esc])"
   ]
  },
  {
   "cell_type": "code",
   "execution_count": 12,
   "id": "2181c0d9",
   "metadata": {},
   "outputs": [
    {
     "name": "stderr",
     "output_type": "stream",
     "text": [
      "C:\\Users\\User\\anaconda3\\anaconda\\lib\\site-packages\\seaborn\\distributions.py:2619: FutureWarning: `distplot` is a deprecated function and will be removed in a future version. Please adapt your code to use either `displot` (a figure-level function with similar flexibility) or `histplot` (an axes-level function for histograms).\n",
      "  warnings.warn(msg, FutureWarning)\n"
     ]
    },
    {
     "data": {
      "image/png": "[encoded data removed]",
      "text/plain": [
       "<Figure size 864x504 with 2 Axes>"
      ]
     },
     "metadata": {
      "needs_background": "light"
     },
     "output_type": "display_data"
    }
   ],
   "source": [
    "#Check\n",
    "outl('age')"
   ]
  },
  {
   "cell_type": "markdown",
   "id": "dad1f855",
   "metadata": {},
   "source": [
    "# Linear regression"
   ]
  },
  {
   "cell_type": "code",
   "execution_count": 13,
   "id": "e12295e6",
   "metadata": {},
   "outputs": [],
   "source": [
    "#import sklearn and statsmodels\n",
    "import sklearn\n",
    "import statsmodels.api as sm"
   ]
  },
  {
   "cell_type": "code",
   "execution_count": 14,
   "id": "7b90d309",
   "metadata": {},
   "outputs": [
    {
     "name": "stdout",
     "output_type": "stream",
     "text": [
      "df_train shape is (1359, 9), df_test is (583, 9)\n"
     ]
    }
   ],
   "source": [
    "#train test split\n",
    "from sklearn.model_selection import train_test_split\n",
    "\n",
    "df_train, df_test = train_test_split(df, test_size=0.30, shuffle=True, random_state=42)\n",
    "print('df_train shape is {0}, df_test is {1}'.format(df_train.shape,df_test.shape))"
   ]
  },
  {
   "cell_type": "code",
   "execution_count": 15,
   "id": "15b2b2dd",
   "metadata": {},
   "outputs": [],
   "source": [
    "#Feature scaling using standard scaler\n",
    "from sklearn.preprocessing import StandardScaler\n",
    "\n",
    "def fscale(train,test):\n",
    "    scaler = StandardScaler()\n",
    "    train = scaler.fit_transform(train)\n",
    "    test = scaler.transform(test)\n",
    "    \n",
    "    return train, test"
   ]
  },
  {
   "cell_type": "code",
   "execution_count": 16,
   "id": "8ea59c3f",
   "metadata": {},
   "outputs": [],
   "source": [
    "#calling the above function\n",
    "df_train_sc,df_test_sc = fscale(df_train,df_test)"
   ]
  },
  {
   "cell_type": "code",
   "execution_count": 17,
   "id": "04809bd7",
   "metadata": {},
   "outputs": [],
   "source": [
    "#Check\n",
    "df_train_sc = pd.DataFrame(df_train_sc,columns=df.columns)\n",
    "\n",
    "df_test_sc = pd.DataFrame(df_test_sc,columns=df.columns)"
   ]
  },
  {
   "cell_type": "code",
   "execution_count": 18,
   "id": "82344d4b",
   "metadata": {},
   "outputs": [],
   "source": [
    "y_train_sc = df_train_sc['concrete_compressive_strength']\n",
    "X_train_sc = df_train_sc.drop('concrete_compressive_strength',axis=1)\n",
    "y_test_sc = df_test_sc['concrete_compressive_strength']\n",
    "X_test_sc = df_test_sc.drop('concrete_compressive_strength',axis=1)"
   ]
  },
  {
   "cell_type": "markdown",
   "id": "81a87328",
   "metadata": {},
   "source": [
    " # Feature selection using Backward Elimination\n",
    " The performance metric used here to evaluate feature performance is p-value. If the p-value is above 0.05 then we remove the feature, else we keep it."
   ]
  },
  {
   "cell_type": "code",
   "execution_count": 19,
   "id": "f2c64ecb",
   "metadata": {},
   "outputs": [],
   "source": [
    "import statsmodels.api as sm\n",
    "from sklearn.linear_model import LinearRegression\n",
    "#Function for model building and fitting\n",
    "def lr_sm(X_train,y_train):\n",
    "    X_train_const = sm.add_constant(X_train)\n",
    "    lr = sm.OLS(y_train,X_train_const).fit()\n",
    "    return lr"
   ]
  },
  {
   "cell_type": "code",
   "execution_count": 20,
   "id": "0468f3fc",
   "metadata": {},
   "outputs": [
    {
     "data": {
      "text/plain": [
       "const                  1.000000e+00\n",
       "cement                 2.972168e-67\n",
       "blast_furnace_slag     1.852821e-31\n",
       "fly_ash                1.692251e-12\n",
       "water                  5.161767e-12\n",
       "superplasticizer       3.187916e-02\n",
       "coarse_aggregate       9.600872e-01\n",
       "fine_aggregate         8.002238e-01\n",
       "age                   9.517233e-217\n",
       "dtype: float64"
      ]
     },
     "execution_count": 20,
     "metadata": {},
     "output_type": "execute_result"
    }
   ],
   "source": [
    "#calling function\n",
    "lr_sm = lr_sm(X_train_sc,y_train_sc)\n",
    "\n",
    "lr_sm.pvalues"
   ]
  },
  {
   "cell_type": "code",
   "execution_count": 21,
   "id": "bc60d8de",
   "metadata": {},
   "outputs": [
    {
     "name": "stdout",
     "output_type": "stream",
     "text": [
      "['cement', 'blast_furnace_slag', 'fly_ash', 'water', 'superplasticizer', 'age']\n"
     ]
    }
   ],
   "source": [
    "#Backward Elimination \n",
    "cols = list(X_train_sc.columns)\n",
    "pmax = 1\n",
    "while (len(cols)>0):\n",
    "    p= []\n",
    "    X_1 = X_train_sc[cols]\n",
    "    X_1 = sm.add_constant(X_1)\n",
    "    lr = sm.OLS(y_train_sc,X_1).fit()\n",
    "    p = pd.Series(lr.pvalues.values[1:],index = cols)      \n",
    "    pmax = max(p)\n",
    "    feature_with_p_max = p.idxmax()\n",
    "    if(pmax>0.05):\n",
    "        cols.remove(feature_with_p_max)\n",
    "    else:\n",
    "        break\n",
    "selected_features_BE = cols\n",
    "print(selected_features_BE)"
   ]
  },
  {
   "cell_type": "code",
   "execution_count": 22,
   "id": "07553cca",
   "metadata": {},
   "outputs": [],
   "source": [
    "X_train_be = X_train_sc[selected_features_BE]\n",
    "X_test_be = X_test_sc[selected_features_BE]\n",
    "\n",
    "#building a linear regression model\n",
    "lr = LinearRegression()\n",
    "\n",
    "#fitting\n",
    "lr.fit(X_train_be,y_train_sc)\n",
    "\n",
    "#predictions\n",
    "y_pred_train_be = lr.predict(X_train_be)\n",
    "y_pred_test_be = lr.predict(X_test_be)"
   ]
  },
  {
   "cell_type": "code",
   "execution_count": 23,
   "id": "0e8b2832",
   "metadata": {},
   "outputs": [],
   "source": [
    "#metrics\n",
    "from sklearn.metrics import r2_score,mean_squared_error\n",
    "\n",
    "\n",
    "#function for adjusted r2_score\n",
    "def adjusted_r2_score(data,y_true,y_pred):\n",
    "    r2 = r2_score(y_true,y_pred)\n",
    "    n = data.shape[0]\n",
    "    p = data.shape[1]\n",
    "    adj_r2 = 1-(1-r2)*(n-1)/(n-p-1)\n",
    "    return adj_r2"
   ]
  },
  {
   "cell_type": "code",
   "execution_count": 24,
   "id": "25759004",
   "metadata": {},
   "outputs": [],
   "source": [
    "def rmse(y_true,y_pred):\n",
    "    rmse = np.sqrt(mean_squared_error(y_true,y_pred))\n",
    "    return rmse"
   ]
  },
  {
   "cell_type": "code",
   "execution_count": 25,
   "id": "babc3711",
   "metadata": {},
   "outputs": [
    {
     "name": "stdout",
     "output_type": "stream",
     "text": [
      "R2 score of train data is  0.7507812641482239\n",
      "Adj. R2 score of train data is  0.7496752638411894\n",
      "rmse score of train data is  0.49921812452251385\n",
      "\n",
      "R2 score of test data is  0.773336420767055\n",
      "Adj. R2 score of train data is  0.7709753418167118\n",
      "rmse score of test data is  0.4867075308136682\n"
     ]
    }
   ],
   "source": [
    "#Evaluation \n",
    "print('R2 score of train data is ',r2_score(y_train_sc,y_pred_train_be))\n",
    "print('Adj. R2 score of train data is ',adjusted_r2_score(X_train_be,y_train_sc,y_pred_train_be))\n",
    "print('rmse score of train data is ',rmse(y_train_sc,y_pred_train_be))\n",
    "print()\n",
    "print('R2 score of test data is ',r2_score(y_test_sc,y_pred_test_be))\n",
    "print('Adj. R2 score of train data is ',adjusted_r2_score(X_test_be,y_test_sc,y_pred_test_be))\n",
    "print('rmse score of test data is ',rmse(y_test_sc,y_pred_test_be))"
   ]
  },
  {
   "cell_type": "code",
   "execution_count": 26,
   "id": "34168a28",
   "metadata": {},
   "outputs": [
    {
     "data": {
      "text/html": [
       "<div>\n",
       "<style scoped>\n",
       "    .dataframe tbody tr th:only-of-type {\n",
       "        vertical-align: middle;\n",
       "    }\n",
       "\n",
       "    .dataframe tbody tr th {\n",
       "        vertical-align: top;\n",
       "    }\n",
       "\n",
       "    .dataframe thead th {\n",
       "        text-align: right;\n",
       "    }\n",
       "</style>\n",
       "<table border=\"1\" class=\"dataframe\">\n",
       "  <thead>\n",
       "    <tr style=\"text-align: right;\">\n",
       "      <th></th>\n",
       "      <th>Algorithm</th>\n",
       "      <th>Train_R2 score</th>\n",
       "      <th>Train_Adj_R2 score</th>\n",
       "      <th>Train_RMSE score</th>\n",
       "      <th>Test_R2 score</th>\n",
       "      <th>Test_Adj_R2 score</th>\n",
       "      <th>Test_RMSE score</th>\n",
       "    </tr>\n",
       "  </thead>\n",
       "  <tbody>\n",
       "    <tr>\n",
       "      <th>0</th>\n",
       "      <td>Linear Regression_BE</td>\n",
       "      <td>0.750781</td>\n",
       "      <td>0.749675</td>\n",
       "      <td>0.499218</td>\n",
       "      <td>0.773336</td>\n",
       "      <td>0.770975</td>\n",
       "      <td>0.486708</td>\n",
       "    </tr>\n",
       "  </tbody>\n",
       "</table>\n",
       "</div>"
      ],
      "text/plain": [
       "              Algorithm  Train_R2 score  Train_Adj_R2 score  Train_RMSE score  \\\n",
       "0  Linear Regression_BE        0.750781            0.749675          0.499218   \n",
       "\n",
       "   Test_R2 score  Test_Adj_R2 score  Test_RMSE score  \n",
       "0       0.773336           0.770975         0.486708  "
      ]
     },
     "execution_count": 26,
     "metadata": {},
     "output_type": "execute_result"
    }
   ],
   "source": [
    "#saving results\n",
    "results = pd.DataFrame(columns = ['Algorithm','Train_R2 score','Train_Adj_R2 score','Train_RMSE score',\n",
    "                                 'Test_R2 score','Test_Adj_R2 score','Test_RMSE score'])\n",
    "results.loc[len(results)] = ['Linear Regression_BE',r2_score(y_train_sc,y_pred_train_be),\n",
    "                             adjusted_r2_score(X_train_be,y_train_sc,y_pred_train_be),\n",
    "                             rmse(y_train_sc,y_pred_train_be),r2_score(y_test_sc,y_pred_test_be),\n",
    "                             adjusted_r2_score(X_test_be,y_test_sc,y_pred_test_be),rmse(y_test_sc,y_pred_test_be)]\n",
    "results"
   ]
  },
  {
   "cell_type": "code",
   "execution_count": 27,
   "id": "478cd798",
   "metadata": {},
   "outputs": [
    {
     "name": "stderr",
     "output_type": "stream",
     "text": [
      "C:\\Users\\User\\anaconda3\\anaconda\\lib\\site-packages\\seaborn\\distributions.py:2619: FutureWarning: `distplot` is a deprecated function and will be removed in a future version. Please adapt your code to use either `displot` (a figure-level function with similar flexibility) or `histplot` (an axes-level function for histograms).\n",
      "  warnings.warn(msg, FutureWarning)\n"
     ]
    },
    {
     "data": {
      "image/png": "[encoded data removed]",
      "text/plain": [
       "<Figure size 864x504 with 1 Axes>"
      ]
     },
     "metadata": {
      "needs_background": "light"
     },
     "output_type": "display_data"
    }
   ],
   "source": [
    "#check how error terms are distributed on train data\n",
    "y_res = y_train_sc - y_pred_train_be\n",
    "plt.figure(figsize=(12,7))\n",
    "sns.distplot(y_res, kde = True, color = 'g')\n",
    "plt.grid()\n",
    "plt.show()"
   ]
  },
  {
   "cell_type": "code",
   "execution_count": 28,
   "id": "6a3d2aa6",
   "metadata": {},
   "outputs": [
    {
     "name": "stderr",
     "output_type": "stream",
     "text": [
      "C:\\Users\\User\\anaconda3\\anaconda\\lib\\site-packages\\seaborn\\distributions.py:2619: FutureWarning: `distplot` is a deprecated function and will be removed in a future version. Please adapt your code to use either `displot` (a figure-level function with similar flexibility) or `histplot` (an axes-level function for histograms).\n",
      "  warnings.warn(msg, FutureWarning)\n"
     ]
    },
    {
     "data": {
      "image/png": "[encoded data removed]",
      "text/plain": [
       "<Figure size 864x504 with 1 Axes>"
      ]
     },
     "metadata": {
      "needs_background": "light"
     },
     "output_type": "display_data"
    }
   ],
   "source": [
    "#check how error terms are distributed on test data\n",
    "y_res = y_test_sc - y_pred_test_be\n",
    "plt.figure(figsize=(12,7))\n",
    "sns.distplot(y_res, kde = True, color = 'g')\n",
    "plt.grid()\n",
    "plt.show()"
   ]
  },
  {
   "cell_type": "code",
   "execution_count": 29,
   "id": "c55edfd7",
   "metadata": {},
   "outputs": [
    {
     "name": "stderr",
     "output_type": "stream",
     "text": [
      "C:\\Users\\User\\anaconda3\\anaconda\\lib\\site-packages\\seaborn\\_decorators.py:36: FutureWarning: Pass the following variables as keyword args: x, y. From version 0.12, the only valid positional argument will be `data`, and passing other arguments without an explicit keyword will result in an error or misinterpretation.\n",
      "  warnings.warn(\n"
     ]
    },
    {
     "data": {
      "image/png": "[encoded data removed]",
      "text/plain": [
       "<Figure size 864x504 with 1 Axes>"
      ]
     },
     "metadata": {
      "needs_background": "light"
     },
     "output_type": "display_data"
    }
   ],
   "source": [
    "#actual test values vs predicted test values\n",
    "plt.figure(figsize=(12,7))\n",
    "plt.title('Actual Vs Predicted values of test data')\n",
    "sns.scatterplot(y_test_sc,y_pred_test_be)\n",
    "plt.show()"
   ]
  },
  {
   "cell_type": "markdown",
   "id": "382e4a21",
   "metadata": {},
   "source": [
    "# Ada Boost regressor"
   ]
  },
  {
   "cell_type": "code",
   "execution_count": 30,
   "id": "d3046e59",
   "metadata": {},
   "outputs": [],
   "source": [
    "#Splitting data set\n",
    "y = df['concrete_compressive_strength']\n",
    "X = df.drop('concrete_compressive_strength',axis=1)"
   ]
  },
  {
   "cell_type": "code",
   "execution_count": 31,
   "id": "2d80b7d8",
   "metadata": {},
   "outputs": [
    {
     "name": "stdout",
     "output_type": "stream",
     "text": [
      "The shapes of X_train = (1359, 8), y_train = (1359,), X_test = (583, 8),y_test = (583,)\n"
     ]
    }
   ],
   "source": [
    "#Train-test-split\n",
    "from sklearn.model_selection import train_test_split\n",
    "X_train,X_test,y_train,y_test = train_test_split(X,y, test_size=0.30, random_state=42, shuffle = True)\n",
    "print('The shapes of X_train = {0}, y_train = {1}, X_test = {2},y_test = {3}'.format(X_train.shape,y_train.shape,X_test.shape,y_test.shape))"
   ]
  },
  {
   "cell_type": "code",
   "execution_count": 32,
   "id": "d172748d",
   "metadata": {},
   "outputs": [
    {
     "data": {
      "text/plain": [
       "AdaBoostRegressor(learning_rate=1, loss='square', n_estimators=100)"
      ]
     },
     "execution_count": 32,
     "metadata": {},
     "output_type": "execute_result"
    }
   ],
   "source": [
    "from sklearn.ensemble import AdaBoostRegressor\n",
    "adb = AdaBoostRegressor(learning_rate=1, loss='square', n_estimators=100)\n",
    "adb.fit(X_train,y_train)"
   ]
  },
  {
   "cell_type": "code",
   "execution_count": 33,
   "id": "088f1ee1",
   "metadata": {},
   "outputs": [
    {
     "data": {
      "text/html": [
       "<div>\n",
       "<style scoped>\n",
       "    .dataframe tbody tr th:only-of-type {\n",
       "        vertical-align: middle;\n",
       "    }\n",
       "\n",
       "    .dataframe tbody tr th {\n",
       "        vertical-align: top;\n",
       "    }\n",
       "\n",
       "    .dataframe thead th {\n",
       "        text-align: right;\n",
       "    }\n",
       "</style>\n",
       "<table border=\"1\" class=\"dataframe\">\n",
       "  <thead>\n",
       "    <tr style=\"text-align: right;\">\n",
       "      <th></th>\n",
       "      <th>Feature_importance</th>\n",
       "    </tr>\n",
       "  </thead>\n",
       "  <tbody>\n",
       "    <tr>\n",
       "      <th>cement</th>\n",
       "      <td>0.286982</td>\n",
       "    </tr>\n",
       "    <tr>\n",
       "      <th>age</th>\n",
       "      <td>0.267744</td>\n",
       "    </tr>\n",
       "    <tr>\n",
       "      <th>water</th>\n",
       "      <td>0.198549</td>\n",
       "    </tr>\n",
       "    <tr>\n",
       "      <th>blast_furnace_slag</th>\n",
       "      <td>0.089425</td>\n",
       "    </tr>\n",
       "    <tr>\n",
       "      <th>superplasticizer</th>\n",
       "      <td>0.060551</td>\n",
       "    </tr>\n",
       "    <tr>\n",
       "      <th>fine_aggregate</th>\n",
       "      <td>0.057337</td>\n",
       "    </tr>\n",
       "    <tr>\n",
       "      <th>coarse_aggregate</th>\n",
       "      <td>0.034366</td>\n",
       "    </tr>\n",
       "    <tr>\n",
       "      <th>fly_ash</th>\n",
       "      <td>0.005045</td>\n",
       "    </tr>\n",
       "  </tbody>\n",
       "</table>\n",
       "</div>"
      ],
      "text/plain": [
       "                    Feature_importance\n",
       "cement                        0.286982\n",
       "age                           0.267744\n",
       "water                         0.198549\n",
       "blast_furnace_slag            0.089425\n",
       "superplasticizer              0.060551\n",
       "fine_aggregate                0.057337\n",
       "coarse_aggregate              0.034366\n",
       "fly_ash                       0.005045"
      ]
     },
     "execution_count": 33,
     "metadata": {},
     "output_type": "execute_result"
    }
   ],
   "source": [
    "#Feature importances\n",
    "adb.feature_importances_\n",
    "adb_feature_imp = pd.DataFrame(adb.feature_importances_, index = X_train.columns, columns = ['Feature_importance'])\n",
    "adb_feature_imp.sort_values(by = 'Feature_importance', ascending = False, inplace = True)\n",
    "adb_feature_imp"
   ]
  },
  {
   "cell_type": "code",
   "execution_count": 34,
   "id": "b8799dbc",
   "metadata": {},
   "outputs": [
    {
     "data": {
      "image/png": "[encoded data removed]",
      "text/plain": [
       "<Figure size 864x504 with 1 Axes>"
      ]
     },
     "metadata": {
      "needs_background": "light"
     },
     "output_type": "display_data"
    }
   ],
   "source": [
    "#Visualizing\n",
    "adb_feature_imp['Feature_importance'].plot(kind='bar', title= 'Feature importance by Adaboost Regressor', figsize=(12,7))\n",
    "plt.show()"
   ]
  },
  {
   "cell_type": "code",
   "execution_count": 35,
   "id": "69586f81",
   "metadata": {},
   "outputs": [],
   "source": [
    "top_features_adb = ['cement','age','water','blast_furnace_slag','superplasticizer','fine_aggregate ','coarse_aggregate']"
   ]
  },
  {
   "cell_type": "code",
   "execution_count": 36,
   "id": "c70ca630",
   "metadata": {},
   "outputs": [],
   "source": [
    "X_train_adb = X_train[top_features_adb]\n",
    "X_test_adb = X_test[top_features_adb]\n",
    "\n",
    "adb1 = AdaBoostRegressor(learning_rate=1, loss='square', n_estimators=100)"
   ]
  },
  {
   "cell_type": "code",
   "execution_count": 37,
   "id": "5c13fde6",
   "metadata": {},
   "outputs": [
    {
     "data": {
      "text/plain": [
       "AdaBoostRegressor(learning_rate=1, loss='square', n_estimators=100)"
      ]
     },
     "execution_count": 37,
     "metadata": {},
     "output_type": "execute_result"
    }
   ],
   "source": [
    "#fitting on the training data\n",
    "adb1.fit(X_train_adb,y_train)"
   ]
  },
  {
   "cell_type": "code",
   "execution_count": 38,
   "id": "f72bf6f8",
   "metadata": {},
   "outputs": [],
   "source": [
    "#predictions on training data\n",
    "y_pred_train = adb1.predict(X_train_adb)\n",
    "\n",
    "#predictions on testing data\n",
    "y_pred_test = adb1.predict(X_test_adb)"
   ]
  },
  {
   "cell_type": "code",
   "execution_count": 39,
   "id": "3f5ec736",
   "metadata": {},
   "outputs": [
    {
     "name": "stdout",
     "output_type": "stream",
     "text": [
      "R2 score of train data is  0.8283560125606007\n",
      "Adj. R2 score of train data is  0.8274666654754224\n",
      "rmse score of train data is  6.941486820200066\n",
      "\n",
      "R2 score of test data is  0.8202567285773841\n",
      "Adj. R2 score of train data is  0.8180685496209348\n",
      "rmse score of test data is  7.261757161960163\n"
     ]
    }
   ],
   "source": [
    "print('R2 score of train data is ',r2_score(y_train,y_pred_train))\n",
    "print('Adj. R2 score of train data is ',adjusted_r2_score(X_train_adb,y_train,y_pred_train))\n",
    "print('rmse score of train data is ',rmse(y_train,y_pred_train))\n",
    "print()\n",
    "print('R2 score of test data is ',r2_score(y_test,y_pred_test))\n",
    "print('Adj. R2 score of train data is ',adjusted_r2_score(X_test_adb,y_test,y_pred_test))\n",
    "print('rmse score of test data is ',rmse(y_test,y_pred_test))"
   ]
  },
  {
   "cell_type": "code",
   "execution_count": 40,
   "id": "b37af46d",
   "metadata": {},
   "outputs": [
    {
     "data": {
      "text/html": [
       "<div>\n",
       "<style scoped>\n",
       "    .dataframe tbody tr th:only-of-type {\n",
       "        vertical-align: middle;\n",
       "    }\n",
       "\n",
       "    .dataframe tbody tr th {\n",
       "        vertical-align: top;\n",
       "    }\n",
       "\n",
       "    .dataframe thead th {\n",
       "        text-align: right;\n",
       "    }\n",
       "</style>\n",
       "<table border=\"1\" class=\"dataframe\">\n",
       "  <thead>\n",
       "    <tr style=\"text-align: right;\">\n",
       "      <th></th>\n",
       "      <th>Algorithm</th>\n",
       "      <th>Train_R2 score</th>\n",
       "      <th>Train_Adj_R2 score</th>\n",
       "      <th>Train_RMSE score</th>\n",
       "      <th>Test_R2 score</th>\n",
       "      <th>Test_Adj_R2 score</th>\n",
       "      <th>Test_RMSE score</th>\n",
       "    </tr>\n",
       "  </thead>\n",
       "  <tbody>\n",
       "    <tr>\n",
       "      <th>0</th>\n",
       "      <td>Linear Regression_BE</td>\n",
       "      <td>0.750781</td>\n",
       "      <td>0.749675</td>\n",
       "      <td>0.499218</td>\n",
       "      <td>0.773336</td>\n",
       "      <td>0.770975</td>\n",
       "      <td>0.486708</td>\n",
       "    </tr>\n",
       "    <tr>\n",
       "      <th>1</th>\n",
       "      <td>AdaBoost regressor</td>\n",
       "      <td>0.828356</td>\n",
       "      <td>0.827467</td>\n",
       "      <td>6.941487</td>\n",
       "      <td>0.820257</td>\n",
       "      <td>0.818069</td>\n",
       "      <td>7.261757</td>\n",
       "    </tr>\n",
       "  </tbody>\n",
       "</table>\n",
       "</div>"
      ],
      "text/plain": [
       "              Algorithm  Train_R2 score  Train_Adj_R2 score  Train_RMSE score  \\\n",
       "0  Linear Regression_BE        0.750781            0.749675          0.499218   \n",
       "1    AdaBoost regressor        0.828356            0.827467          6.941487   \n",
       "\n",
       "   Test_R2 score  Test_Adj_R2 score  Test_RMSE score  \n",
       "0       0.773336           0.770975         0.486708  \n",
       "1       0.820257           0.818069         7.261757  "
      ]
     },
     "execution_count": 40,
     "metadata": {},
     "output_type": "execute_result"
    }
   ],
   "source": [
    "#saving in results\n",
    "results.loc[len(results)] = ['AdaBoost regressor',r2_score(y_train,y_pred_train),\n",
    "                             adjusted_r2_score(X_train_adb,y_train,y_pred_train),rmse(y_train,y_pred_train),\n",
    "                             r2_score(y_test,y_pred_test),adjusted_r2_score(X_test_adb,y_test,y_pred_test),rmse(y_test,y_pred_test)]\n",
    "results"
   ]
  },
  {
   "cell_type": "markdown",
   "id": "ee7eb2e7",
   "metadata": {},
   "source": [
    "# Random Forest Regressor"
   ]
  },
  {
   "cell_type": "code",
   "execution_count": 41,
   "id": "bb18bdc2",
   "metadata": {},
   "outputs": [
    {
     "data": {
      "text/plain": [
       "RandomForestRegressor(max_depth=20, min_samples_leaf=4, min_samples_split=8,\n",
       "                      n_estimators=80, oob_score=True)"
      ]
     },
     "execution_count": 41,
     "metadata": {},
     "output_type": "execute_result"
    }
   ],
   "source": [
    "from sklearn.ensemble import RandomForestRegressor\n",
    "rf = RandomForestRegressor(max_depth=20, min_samples_leaf=4, min_samples_split=8,\n",
    "                      n_estimators=80, oob_score=True)\n",
    "\n",
    "\n",
    "#fitting\n",
    "rf.fit(X_train,y_train)"
   ]
  },
  {
   "cell_type": "code",
   "execution_count": 42,
   "id": "a005e672",
   "metadata": {},
   "outputs": [
    {
     "data": {
      "text/html": [
       "<div>\n",
       "<style scoped>\n",
       "    .dataframe tbody tr th:only-of-type {\n",
       "        vertical-align: middle;\n",
       "    }\n",
       "\n",
       "    .dataframe tbody tr th {\n",
       "        vertical-align: top;\n",
       "    }\n",
       "\n",
       "    .dataframe thead th {\n",
       "        text-align: right;\n",
       "    }\n",
       "</style>\n",
       "<table border=\"1\" class=\"dataframe\">\n",
       "  <thead>\n",
       "    <tr style=\"text-align: right;\">\n",
       "      <th></th>\n",
       "      <th>Feature_importance</th>\n",
       "    </tr>\n",
       "  </thead>\n",
       "  <tbody>\n",
       "    <tr>\n",
       "      <th>age</th>\n",
       "      <td>0.338205</td>\n",
       "    </tr>\n",
       "    <tr>\n",
       "      <th>cement</th>\n",
       "      <td>0.337868</td>\n",
       "    </tr>\n",
       "    <tr>\n",
       "      <th>water</th>\n",
       "      <td>0.112312</td>\n",
       "    </tr>\n",
       "    <tr>\n",
       "      <th>blast_furnace_slag</th>\n",
       "      <td>0.077696</td>\n",
       "    </tr>\n",
       "    <tr>\n",
       "      <th>superplasticizer</th>\n",
       "      <td>0.062608</td>\n",
       "    </tr>\n",
       "    <tr>\n",
       "      <th>fine_aggregate</th>\n",
       "      <td>0.026611</td>\n",
       "    </tr>\n",
       "    <tr>\n",
       "      <th>coarse_aggregate</th>\n",
       "      <td>0.022490</td>\n",
       "    </tr>\n",
       "    <tr>\n",
       "      <th>fly_ash</th>\n",
       "      <td>0.022210</td>\n",
       "    </tr>\n",
       "  </tbody>\n",
       "</table>\n",
       "</div>"
      ],
      "text/plain": [
       "                    Feature_importance\n",
       "age                           0.338205\n",
       "cement                        0.337868\n",
       "water                         0.112312\n",
       "blast_furnace_slag            0.077696\n",
       "superplasticizer              0.062608\n",
       "fine_aggregate                0.026611\n",
       "coarse_aggregate              0.022490\n",
       "fly_ash                       0.022210"
      ]
     },
     "execution_count": 42,
     "metadata": {},
     "output_type": "execute_result"
    }
   ],
   "source": [
    "#feature importances\n",
    "rf.feature_importances_\n",
    "rf_feature_imp = pd.DataFrame(rf.feature_importances_, index = X_train.columns, columns = ['Feature_importance'])\n",
    "rf_feature_imp.sort_values(by = 'Feature_importance', ascending = False, inplace = True)\n",
    "rf_feature_imp"
   ]
  },
  {
   "cell_type": "code",
   "execution_count": 43,
   "id": "fc5822c7",
   "metadata": {},
   "outputs": [
    {
     "data": {
      "image/png": "[encoded data removed]",
      "text/plain": [
       "<Figure size 864x504 with 1 Axes>"
      ]
     },
     "metadata": {
      "needs_background": "light"
     },
     "output_type": "display_data"
    }
   ],
   "source": [
    "#visualizing\n",
    "rf_feature_imp['Feature_importance'].plot(kind='bar', title='Feature importance by Random Forest Regressor', figsize=(12,7))\n",
    "plt.show()"
   ]
  },
  {
   "cell_type": "code",
   "execution_count": 44,
   "id": "ac1a972a",
   "metadata": {},
   "outputs": [],
   "source": [
    "features_by_rf = ['age','cement','water','blast_furnace_slag','superplasticizer']"
   ]
  },
  {
   "cell_type": "code",
   "execution_count": 45,
   "id": "069143e5",
   "metadata": {},
   "outputs": [],
   "source": [
    "#Considering only the above features\n",
    "X_train_rf = X_train[features_by_rf]\n",
    "X_test_rf = X_test[features_by_rf]"
   ]
  },
  {
   "cell_type": "code",
   "execution_count": 46,
   "id": "b019358f",
   "metadata": {},
   "outputs": [
    {
     "name": "stdout",
     "output_type": "stream",
     "text": [
      "Fitting 10 folds for each of 10 candidates, totalling 100 fits\n"
     ]
    },
    {
     "name": "stderr",
     "output_type": "stream",
     "text": [
      "C:\\Users\\User\\anaconda3\\anaconda\\lib\\site-packages\\sklearn\\ensemble\\_forest.py:396: FutureWarning: Criterion 'mse' was deprecated in v1.0 and will be removed in version 1.2. Use `criterion='squared_error'` which is equivalent.\n",
      "  warn(\n"
     ]
    },
    {
     "data": {
      "text/plain": [
       "RandomizedSearchCV(cv=10, estimator=RandomForestRegressor(), n_jobs=-1,\n",
       "                   param_distributions={'criterion': ['mse', 'mae'],\n",
       "                                        'max_depth': [2, 5, 10, 20],\n",
       "                                        'min_samples_leaf': [2, 4, 6, 8, 10],\n",
       "                                        'min_samples_split': [2, 4, 8, 12],\n",
       "                                        'n_estimators': [5, 10, 20, 40, 80, 100,\n",
       "                                                         200],\n",
       "                                        'oob_score': [True]},\n",
       "                   random_state=42, return_train_score=True, scoring='r2',\n",
       "                   verbose=5)"
      ]
     },
     "execution_count": 46,
     "metadata": {},
     "output_type": "execute_result"
    }
   ],
   "source": [
    "#instantiating random forest regressor\n",
    "#importing Randomized Search CV\n",
    "from sklearn.model_selection import RandomizedSearchCV\n",
    "rf2 = RandomForestRegressor()\n",
    "\n",
    "\n",
    "\n",
    "\n",
    "#using Randomized Search CV for hyper parameter tuning\n",
    "params = {'n_estimators':[5,10,20,40,80,100,200],\n",
    "          'criterion':['mse','mae'],\n",
    "          'max_depth':[2,5,10,20],\n",
    "          'min_samples_split':[2,4,8,12],\n",
    "          'min_samples_leaf':[2,4,6,8,10],\n",
    "          'oob_score': [True]}\n",
    "\n",
    "rcv = RandomizedSearchCV(estimator = rf2, param_distributions = params, n_iter = 10, scoring = 'r2', cv = 10, verbose=5,\n",
    "                         random_state=42, n_jobs=-1, return_train_score=True)\n",
    "rcv.fit(X_train_rf,y_train)"
   ]
  },
  {
   "cell_type": "code",
   "execution_count": 47,
   "id": "5d05aafc",
   "metadata": {},
   "outputs": [
    {
     "data": {
      "text/plain": [
       "RandomForestRegressor(criterion='mse', max_depth=20, min_samples_leaf=4,\n",
       "                      min_samples_split=8, n_estimators=80, oob_score=True)"
      ]
     },
     "execution_count": 47,
     "metadata": {},
     "output_type": "execute_result"
    }
   ],
   "source": [
    "# best estimator\n",
    "rcv.best_estimator_"
   ]
  },
  {
   "cell_type": "code",
   "execution_count": 48,
   "id": "769bda39",
   "metadata": {},
   "outputs": [
    {
     "data": {
      "text/plain": [
       "{'oob_score': True,\n",
       " 'n_estimators': 80,\n",
       " 'min_samples_split': 8,\n",
       " 'min_samples_leaf': 4,\n",
       " 'max_depth': 20,\n",
       " 'criterion': 'mse'}"
      ]
     },
     "execution_count": 48,
     "metadata": {},
     "output_type": "execute_result"
    }
   ],
   "source": [
    "# best parameters\n",
    "rcv.best_params_"
   ]
  },
  {
   "cell_type": "code",
   "execution_count": 49,
   "id": "a8e2c34b",
   "metadata": {},
   "outputs": [
    {
     "data": {
      "text/plain": [
       "0.9201891333635576"
      ]
     },
     "execution_count": 49,
     "metadata": {},
     "output_type": "execute_result"
    }
   ],
   "source": [
    "#best score\n",
    "rcv.best_score_"
   ]
  },
  {
   "cell_type": "code",
   "execution_count": 50,
   "id": "cb55cba4",
   "metadata": {},
   "outputs": [
    {
     "name": "stderr",
     "output_type": "stream",
     "text": [
      "C:\\Users\\User\\anaconda3\\anaconda\\lib\\site-packages\\sklearn\\ensemble\\_forest.py:396: FutureWarning: Criterion 'mse' was deprecated in v1.0 and will be removed in version 1.2. Use `criterion='squared_error'` which is equivalent.\n",
      "  warn(\n"
     ]
    },
    {
     "data": {
      "text/plain": [
       "RandomForestRegressor(criterion='mse', max_depth=20, min_samples_leaf=4,\n",
       "                      min_samples_split=8, n_estimators=80, oob_score=True)"
      ]
     },
     "execution_count": 50,
     "metadata": {},
     "output_type": "execute_result"
    }
   ],
   "source": [
    "# rebuilding the random forest regressor using the best estimator suggested by the Randomized Search CV\n",
    "rf2 = rcv.best_estimator_\n",
    "\n",
    "#fitting on the training data\n",
    "rf2.fit(X_train_rf,y_train)"
   ]
  },
  {
   "cell_type": "code",
   "execution_count": 51,
   "id": "2263e945",
   "metadata": {},
   "outputs": [],
   "source": [
    "#predictions on train data\n",
    "y_pred_train = rf2.predict(X_train_rf)\n",
    "\n",
    "#predictions on test data\n",
    "y_pred_test = rf2.predict(X_test_rf)"
   ]
  },
  {
   "cell_type": "code",
   "execution_count": 52,
   "id": "53527f67",
   "metadata": {},
   "outputs": [
    {
     "name": "stdout",
     "output_type": "stream",
     "text": [
      "R2 score of train data is  0.961023680370509\n",
      "Adj. R2 score of train data is  0.9608796437126026\n",
      "rmse score of train data is  3.3077952555762966\n",
      "\n",
      "R2 score of test data is  0.940282013926402\n",
      "Adj. R2 score of train data is  0.9397645270453483\n",
      "rmse score of test data is  4.185698836663552\n"
     ]
    }
   ],
   "source": [
    "print('R2 score of train data is ',r2_score(y_train,y_pred_train))\n",
    "print('Adj. R2 score of train data is ',adjusted_r2_score(X_train_rf,y_train,y_pred_train))\n",
    "print('rmse score of train data is ',rmse(y_train,y_pred_train))\n",
    "print()\n",
    "print('R2 score of test data is ',r2_score(y_test,y_pred_test))\n",
    "print('Adj. R2 score of train data is ',adjusted_r2_score(X_test_rf,y_test,y_pred_test))\n",
    "print('rmse score of test data is ',rmse(y_test,y_pred_test))"
   ]
  },
  {
   "cell_type": "code",
   "execution_count": 53,
   "id": "2285ea08",
   "metadata": {},
   "outputs": [
    {
     "data": {
      "text/html": [
       "<div>\n",
       "<style scoped>\n",
       "    .dataframe tbody tr th:only-of-type {\n",
       "        vertical-align: middle;\n",
       "    }\n",
       "\n",
       "    .dataframe tbody tr th {\n",
       "        vertical-align: top;\n",
       "    }\n",
       "\n",
       "    .dataframe thead th {\n",
       "        text-align: right;\n",
       "    }\n",
       "</style>\n",
       "<table border=\"1\" class=\"dataframe\">\n",
       "  <thead>\n",
       "    <tr style=\"text-align: right;\">\n",
       "      <th></th>\n",
       "      <th>Algorithm</th>\n",
       "      <th>Train_R2 score</th>\n",
       "      <th>Train_Adj_R2 score</th>\n",
       "      <th>Train_RMSE score</th>\n",
       "      <th>Test_R2 score</th>\n",
       "      <th>Test_Adj_R2 score</th>\n",
       "      <th>Test_RMSE score</th>\n",
       "    </tr>\n",
       "  </thead>\n",
       "  <tbody>\n",
       "    <tr>\n",
       "      <th>0</th>\n",
       "      <td>Linear Regression_BE</td>\n",
       "      <td>0.750781</td>\n",
       "      <td>0.749675</td>\n",
       "      <td>0.499218</td>\n",
       "      <td>0.773336</td>\n",
       "      <td>0.770975</td>\n",
       "      <td>0.486708</td>\n",
       "    </tr>\n",
       "    <tr>\n",
       "      <th>1</th>\n",
       "      <td>AdaBoost regressor</td>\n",
       "      <td>0.828356</td>\n",
       "      <td>0.827467</td>\n",
       "      <td>6.941487</td>\n",
       "      <td>0.820257</td>\n",
       "      <td>0.818069</td>\n",
       "      <td>7.261757</td>\n",
       "    </tr>\n",
       "    <tr>\n",
       "      <th>2</th>\n",
       "      <td>Random Forest regressor</td>\n",
       "      <td>0.961024</td>\n",
       "      <td>0.960880</td>\n",
       "      <td>3.307795</td>\n",
       "      <td>0.940282</td>\n",
       "      <td>0.939765</td>\n",
       "      <td>4.185699</td>\n",
       "    </tr>\n",
       "  </tbody>\n",
       "</table>\n",
       "</div>"
      ],
      "text/plain": [
       "                 Algorithm  Train_R2 score  Train_Adj_R2 score  \\\n",
       "0     Linear Regression_BE        0.750781            0.749675   \n",
       "1       AdaBoost regressor        0.828356            0.827467   \n",
       "2  Random Forest regressor        0.961024            0.960880   \n",
       "\n",
       "   Train_RMSE score  Test_R2 score  Test_Adj_R2 score  Test_RMSE score  \n",
       "0          0.499218       0.773336           0.770975         0.486708  \n",
       "1          6.941487       0.820257           0.818069         7.261757  \n",
       "2          3.307795       0.940282           0.939765         4.185699  "
      ]
     },
     "execution_count": 53,
     "metadata": {},
     "output_type": "execute_result"
    }
   ],
   "source": [
    "#Updating the results\n",
    "results.loc[len(results)] = ['Random Forest regressor',r2_score(y_train,y_pred_train),\n",
    "                             adjusted_r2_score(X_train_rf,y_train,y_pred_train),rmse(y_train,y_pred_train),\n",
    "                             r2_score(y_test,y_pred_test),adjusted_r2_score(X_test_rf,y_test,y_pred_test),rmse(y_test,y_pred_test)]\n",
    "results"
   ]
  },
  {
   "cell_type": "markdown",
   "id": "cec5679b",
   "metadata": {},
   "source": [
    "# XGBoost Regressor"
   ]
  },
  {
   "cell_type": "code",
   "execution_count": 54,
   "id": "02413521",
   "metadata": {},
   "outputs": [],
   "source": [
    "from xgboost import XGBRegressor\n",
    "from sklearn.model_selection import GridSearchCV\n",
    "from sklearn.model_selection import RandomizedSearchCV\n",
    "xgbr = XGBRegressor(base_score=0.5, booster='gbtree', colsample_bylevel=1,\n",
    "             colsample_bynode=1, colsample_bytree=0.5, gamma=0.2, gpu_id=-1,\n",
    "             importance_type='gain', interaction_constraints='',\n",
    "             learning_rate=1, max_delta_step=0, max_depth=4, min_child_weight=4,\n",
    "             missing='nan', monotone_constraints='()', n_estimators=100,\n",
    "             n_jobs=16, num_parallel_tree=1, random_state=0, reg_alpha=0.5,\n",
    "             reg_lambda=1000, scale_pos_weight=1, subsample=0.9,\n",
    "             tree_method='exact', validate_parameters=1, verbosity=None)"
   ]
  },
  {
   "cell_type": "code",
   "execution_count": 55,
   "id": "629af835",
   "metadata": {},
   "outputs": [
    {
     "data": {
      "text/plain": [
       "XGBRegressor(base_score=0.5, booster='gbtree', callbacks=None,\n",
       "             colsample_bylevel=1, colsample_bynode=1, colsample_bytree=0.5,\n",
       "             early_stopping_rounds=None, enable_categorical=False,\n",
       "             eval_metric=None, feature_types=None, gamma=0.2, gpu_id=-1,\n",
       "             grow_policy=None, importance_type='gain',\n",
       "             interaction_constraints='', learning_rate=1, max_bin=None,\n",
       "             max_cat_threshold=None, max_cat_to_onehot=None, max_delta_step=0,\n",
       "             max_depth=4, max_leaves=None, min_child_weight=4, missing='nan',\n",
       "             monotone_constraints='()', n_estimators=100, n_jobs=16,\n",
       "             num_parallel_tree=1, predictor=None, random_state=0, ...)"
      ]
     },
     "execution_count": 55,
     "metadata": {},
     "output_type": "execute_result"
    }
   ],
   "source": [
    "#Fitting on train data\n",
    "xgbr.fit(X_train,y_train)"
   ]
  },
  {
   "cell_type": "code",
   "execution_count": 56,
   "id": "94764562",
   "metadata": {},
   "outputs": [
    {
     "data": {
      "text/html": [
       "<div>\n",
       "<style scoped>\n",
       "    .dataframe tbody tr th:only-of-type {\n",
       "        vertical-align: middle;\n",
       "    }\n",
       "\n",
       "    .dataframe tbody tr th {\n",
       "        vertical-align: top;\n",
       "    }\n",
       "\n",
       "    .dataframe thead th {\n",
       "        text-align: right;\n",
       "    }\n",
       "</style>\n",
       "<table border=\"1\" class=\"dataframe\">\n",
       "  <thead>\n",
       "    <tr style=\"text-align: right;\">\n",
       "      <th></th>\n",
       "      <th>Feature_importance</th>\n",
       "    </tr>\n",
       "  </thead>\n",
       "  <tbody>\n",
       "    <tr>\n",
       "      <th>age</th>\n",
       "      <td>0.447175</td>\n",
       "    </tr>\n",
       "    <tr>\n",
       "      <th>cement</th>\n",
       "      <td>0.211727</td>\n",
       "    </tr>\n",
       "    <tr>\n",
       "      <th>water</th>\n",
       "      <td>0.088063</td>\n",
       "    </tr>\n",
       "    <tr>\n",
       "      <th>fly_ash</th>\n",
       "      <td>0.082183</td>\n",
       "    </tr>\n",
       "    <tr>\n",
       "      <th>superplasticizer</th>\n",
       "      <td>0.071426</td>\n",
       "    </tr>\n",
       "    <tr>\n",
       "      <th>blast_furnace_slag</th>\n",
       "      <td>0.055894</td>\n",
       "    </tr>\n",
       "    <tr>\n",
       "      <th>fine_aggregate</th>\n",
       "      <td>0.027376</td>\n",
       "    </tr>\n",
       "    <tr>\n",
       "      <th>coarse_aggregate</th>\n",
       "      <td>0.016157</td>\n",
       "    </tr>\n",
       "  </tbody>\n",
       "</table>\n",
       "</div>"
      ],
      "text/plain": [
       "                    Feature_importance\n",
       "age                           0.447175\n",
       "cement                        0.211727\n",
       "water                         0.088063\n",
       "fly_ash                       0.082183\n",
       "superplasticizer              0.071426\n",
       "blast_furnace_slag            0.055894\n",
       "fine_aggregate                0.027376\n",
       "coarse_aggregate              0.016157"
      ]
     },
     "execution_count": 56,
     "metadata": {},
     "output_type": "execute_result"
    }
   ],
   "source": [
    "#feature importances\n",
    "xgbr_feature_imp = pd.DataFrame(xgbr.feature_importances_, index = X_train.columns, columns=['Feature_importance'])\n",
    "xgbr_feature_imp.sort_values(by = 'Feature_importance', ascending = False, inplace = True)\n",
    "xgbr_feature_imp"
   ]
  },
  {
   "cell_type": "code",
   "execution_count": 57,
   "id": "fca39acc",
   "metadata": {},
   "outputs": [
    {
     "data": {
      "image/png": "[encoded data removed]",
      "text/plain": [
       "<Figure size 864x504 with 1 Axes>"
      ]
     },
     "metadata": {
      "needs_background": "light"
     },
     "output_type": "display_data"
    }
   ],
   "source": [
    "#Visualization\n",
    "xgbr_feature_imp['Feature_importance'].plot(kind='bar',title='Feature importance by XGBoost Regressor',figsize=(12,7))\n",
    "plt.show()"
   ]
  },
  {
   "cell_type": "code",
   "execution_count": 58,
   "id": "d237c949",
   "metadata": {},
   "outputs": [],
   "source": [
    "xgbr_top_features = ['age','cement','water','fly_ash','superplasticizer','blast_furnace_slag']"
   ]
  },
  {
   "cell_type": "code",
   "execution_count": 59,
   "id": "cf55f6c1",
   "metadata": {},
   "outputs": [],
   "source": [
    "X_train_xgbr = X_train[xgbr_top_features]\n",
    "X_test_xgbr = X_test[xgbr_top_features]"
   ]
  },
  {
   "cell_type": "code",
   "execution_count": 60,
   "id": "08660799",
   "metadata": {},
   "outputs": [],
   "source": [
    "xgbr2 = XGBRegressor(base_score=0.5, booster='gbtree', colsample_bylevel=1,\n",
    "             colsample_bynode=1, colsample_bytree=0.5, gamma=0.2, gpu_id=-1,\n",
    "             importance_type='gain', interaction_constraints='',\n",
    "             learning_rate=1, max_delta_step=0, max_depth=4, min_child_weight=4,\n",
    "            monotone_constraints='()', n_estimators=100,\n",
    "             n_jobs=16, num_parallel_tree=1, random_state=0, reg_alpha=0.5,\n",
    "             reg_lambda=1000, scale_pos_weight=1, subsample=0.9,\n",
    "             tree_method='exact', validate_parameters=1, verbosity=None)"
   ]
  },
  {
   "cell_type": "code",
   "execution_count": 61,
   "id": "374a588e",
   "metadata": {},
   "outputs": [
    {
     "data": {
      "text/plain": [
       "XGBRegressor(base_score=0.5, booster='gbtree', callbacks=None,\n",
       "             colsample_bylevel=1, colsample_bynode=1, colsample_bytree=0.5,\n",
       "             early_stopping_rounds=None, enable_categorical=False,\n",
       "             eval_metric=None, feature_types=None, gamma=0.2, gpu_id=-1,\n",
       "             grow_policy=None, importance_type='gain',\n",
       "             interaction_constraints='', learning_rate=1, max_bin=None,\n",
       "             max_cat_threshold=None, max_cat_to_onehot=None, max_delta_step=0,\n",
       "             max_depth=4, max_leaves=None, min_child_weight=4, missing=nan,\n",
       "             monotone_constraints='()', n_estimators=100, n_jobs=16,\n",
       "             num_parallel_tree=1, predictor=None, random_state=0, ...)"
      ]
     },
     "execution_count": 61,
     "metadata": {},
     "output_type": "execute_result"
    }
   ],
   "source": [
    "#fitting\n",
    "xgbr2.fit(X_train_xgbr, y_train)"
   ]
  },
  {
   "cell_type": "code",
   "execution_count": 62,
   "id": "5e8a0dcf",
   "metadata": {},
   "outputs": [],
   "source": [
    "y_pred_train = xgbr2.predict(X_train_xgbr)\n",
    "y_pred_test = xgbr2.predict(X_test_xgbr)"
   ]
  },
  {
   "cell_type": "code",
   "execution_count": 63,
   "id": "b190e120",
   "metadata": {},
   "outputs": [
    {
     "name": "stdout",
     "output_type": "stream",
     "text": [
      "R2 score of train data is  0.9435960493720329\n",
      "Adj. R2 score of train data is  0.943345735981672\n",
      "rmse score of train data is  3.9791743438660294\n",
      "\n",
      "R2 score of test data is  0.9432538344721177\n",
      "Adj. R2 score of train data is  0.9426627285812023\n",
      "rmse score of test data is  4.080220759042842\n"
     ]
    }
   ],
   "source": [
    "print('R2 score of train data is ',r2_score(y_train,y_pred_train))\n",
    "print('Adj. R2 score of train data is ',adjusted_r2_score(X_train_xgbr,y_train,y_pred_train))\n",
    "print('rmse score of train data is ',rmse(y_train,y_pred_train))\n",
    "print()\n",
    "print('R2 score of test data is ',r2_score(y_test,y_pred_test))\n",
    "print('Adj. R2 score of train data is ',adjusted_r2_score(X_test_xgbr,y_test,y_pred_test))\n",
    "print('rmse score of test data is ',rmse(y_test,y_pred_test))"
   ]
  },
  {
   "cell_type": "code",
   "execution_count": 64,
   "id": "bf792f98",
   "metadata": {},
   "outputs": [
    {
     "data": {
      "text/html": [
       "<div>\n",
       "<style scoped>\n",
       "    .dataframe tbody tr th:only-of-type {\n",
       "        vertical-align: middle;\n",
       "    }\n",
       "\n",
       "    .dataframe tbody tr th {\n",
       "        vertical-align: top;\n",
       "    }\n",
       "\n",
       "    .dataframe thead th {\n",
       "        text-align: right;\n",
       "    }\n",
       "</style>\n",
       "<table border=\"1\" class=\"dataframe\">\n",
       "  <thead>\n",
       "    <tr style=\"text-align: right;\">\n",
       "      <th></th>\n",
       "      <th>Algorithm</th>\n",
       "      <th>Train_R2 score</th>\n",
       "      <th>Train_Adj_R2 score</th>\n",
       "      <th>Train_RMSE score</th>\n",
       "      <th>Test_R2 score</th>\n",
       "      <th>Test_Adj_R2 score</th>\n",
       "      <th>Test_RMSE score</th>\n",
       "    </tr>\n",
       "  </thead>\n",
       "  <tbody>\n",
       "    <tr>\n",
       "      <th>0</th>\n",
       "      <td>Linear Regression_BE</td>\n",
       "      <td>0.750781</td>\n",
       "      <td>0.749675</td>\n",
       "      <td>0.499218</td>\n",
       "      <td>0.773336</td>\n",
       "      <td>0.770975</td>\n",
       "      <td>0.486708</td>\n",
       "    </tr>\n",
       "    <tr>\n",
       "      <th>1</th>\n",
       "      <td>AdaBoost regressor</td>\n",
       "      <td>0.828356</td>\n",
       "      <td>0.827467</td>\n",
       "      <td>6.941487</td>\n",
       "      <td>0.820257</td>\n",
       "      <td>0.818069</td>\n",
       "      <td>7.261757</td>\n",
       "    </tr>\n",
       "    <tr>\n",
       "      <th>2</th>\n",
       "      <td>Random Forest regressor</td>\n",
       "      <td>0.961024</td>\n",
       "      <td>0.960880</td>\n",
       "      <td>3.307795</td>\n",
       "      <td>0.940282</td>\n",
       "      <td>0.939765</td>\n",
       "      <td>4.185699</td>\n",
       "    </tr>\n",
       "    <tr>\n",
       "      <th>3</th>\n",
       "      <td>XG Boost regressor</td>\n",
       "      <td>0.943596</td>\n",
       "      <td>0.943346</td>\n",
       "      <td>3.979174</td>\n",
       "      <td>0.943254</td>\n",
       "      <td>0.942663</td>\n",
       "      <td>4.080221</td>\n",
       "    </tr>\n",
       "  </tbody>\n",
       "</table>\n",
       "</div>"
      ],
      "text/plain": [
       "                 Algorithm  Train_R2 score  Train_Adj_R2 score  \\\n",
       "0     Linear Regression_BE        0.750781            0.749675   \n",
       "1       AdaBoost regressor        0.828356            0.827467   \n",
       "2  Random Forest regressor        0.961024            0.960880   \n",
       "3       XG Boost regressor        0.943596            0.943346   \n",
       "\n",
       "   Train_RMSE score  Test_R2 score  Test_Adj_R2 score  Test_RMSE score  \n",
       "0          0.499218       0.773336           0.770975         0.486708  \n",
       "1          6.941487       0.820257           0.818069         7.261757  \n",
       "2          3.307795       0.940282           0.939765         4.185699  \n",
       "3          3.979174       0.943254           0.942663         4.080221  "
      ]
     },
     "execution_count": 64,
     "metadata": {},
     "output_type": "execute_result"
    }
   ],
   "source": [
    "#saving in results\n",
    "results.loc[len(results)] = ['XG Boost regressor',r2_score(y_train,y_pred_train),\n",
    "                             adjusted_r2_score(X_train_xgbr,y_train,y_pred_train),rmse(y_train,y_pred_train),\n",
    "                             r2_score(y_test,y_pred_test),adjusted_r2_score(X_test_xgbr,y_test,y_pred_test),rmse(y_test,y_pred_test)]\n",
    "results"
   ]
  },
  {
   "cell_type": "code",
   "execution_count": null,
   "id": "fae5fd84",
   "metadata": {},
   "outputs": [],
   "source": []
  },
  {
   "cell_type": "code",
   "execution_count": 65,
   "id": "d5db740b",
   "metadata": {},
   "outputs": [
    {
     "data": {
      "image/png": "[encoded data removed]",
      "text/plain": [
       "<Figure size 432x288 with 1 Axes>"
      ]
     },
     "metadata": {
      "needs_background": "light"
     },
     "output_type": "display_data"
    }
   ],
   "source": [
    "plt.figure()\n",
    "plt.scatter(y_test, y_pred_test)\n",
    "plt.scatter(y_test, y_test)\n",
    "plt.plot(y_test, y_test)\n",
    "plt.legend([\"Predicted\", \"Original\", \"Regression Line\"])\n",
    "plt.show()"
   ]
  },
  {
   "cell_type": "code",
   "execution_count": null,
   "id": "c948d5a2",
   "metadata": {},
   "outputs": [],
   "source": []
  },
  {
   "cell_type": "markdown",
   "id": "7dc126ca",
   "metadata": {},
   "source": [
    "- It is important to note that the residual line is only one way to assess the fit of the regression line. Other factors, such as the R-squared value, should also be considered."
   ]
  },
  {
   "cell_type": "markdown",
   "id": "56115525",
   "metadata": {},
   "source": [
    "# Inference\n",
    "\n",
    "from the table, \n",
    "- XG Boost regressor is the best performing model in the table. It has the highest R-squared and adjusted R-squared values, and the lowest RMSE score. \n",
    "- The Random Forest regressor is also a good performer, but it has a slightly higher RMSE score. \n",
    "- The AdaBoost regressor and \n",
    "- The Linear Regression model have the lowest performance."
   ]
  },
  {
   "cell_type": "code",
   "execution_count": 66,
   "id": "b20b7ec2",
   "metadata": {
    "scrolled": true
   },
   "outputs": [
    {
     "name": "stdout",
     "output_type": "stream",
     "text": [
      "Predicted strenght0: 29.947538375854492\n",
      "Predicted strenght1: 67.2381820678711\n",
      "Predicted strenght2: 37.45292282104492\n",
      "Predicted strenght3: 6.9935455322265625\n",
      "Predicted strenght4: 63.024192810058594\n",
      "Predicted strenght5: 23.487545013427734\n",
      "Predicted strenght6: 37.06987762451172\n",
      "Predicted strenght7: 34.97257614135742\n",
      "Predicted strenght8: 21.762584686279297\n",
      "Predicted strenght9: 32.4199333190918\n",
      "Predicted strenght10: 39.992305755615234\n",
      "Predicted strenght11: 53.54442596435547\n",
      "Predicted strenght12: 40.60134506225586\n",
      "Predicted strenght13: 8.557171821594238\n",
      "Predicted strenght14: 21.513315200805664\n",
      "Predicted strenght15: 12.152344703674316\n",
      "Predicted strenght16: 75.53960418701172\n",
      "Predicted strenght17: 33.67325973510742\n",
      "Predicted strenght18: 23.481386184692383\n",
      "Predicted strenght19: 34.54800796508789\n",
      "Predicted strenght20: 69.67771911621094\n",
      "Predicted strenght21: 29.071796417236328\n",
      "Predicted strenght22: 39.992305755615234\n",
      "Predicted strenght23: 23.688182830810547\n",
      "Predicted strenght24: 47.629554748535156\n",
      "Predicted strenght25: 38.117252349853516\n",
      "Predicted strenght26: 5.814908981323242\n",
      "Predicted strenght27: 65.26849365234375\n",
      "Predicted strenght28: 68.72789001464844\n",
      "Predicted strenght29: 16.841447830200195\n",
      "Predicted strenght30: 12.655389785766602\n",
      "Predicted strenght31: 5.402010440826416\n",
      "Predicted strenght32: 21.31348419189453\n",
      "Predicted strenght33: 10.956048965454102\n",
      "Predicted strenght34: 72.23369598388672\n",
      "Predicted strenght35: 61.2628059387207\n",
      "Predicted strenght36: 30.612266540527344\n",
      "Predicted strenght37: 46.64710235595703\n",
      "Predicted strenght38: 11.286314010620117\n",
      "Predicted strenght39: 35.35802459716797\n",
      "Predicted strenght40: 47.42902374267578\n",
      "Predicted strenght41: 41.86014938354492\n",
      "Predicted strenght42: 36.111549377441406\n",
      "Predicted strenght43: 29.572084426879883\n",
      "Predicted strenght44: 39.764686584472656\n",
      "Predicted strenght45: 26.187450408935547\n",
      "Predicted strenght46: 14.503589630126953\n",
      "Predicted strenght47: 10.067954063415527\n",
      "Predicted strenght48: 47.62744140625\n",
      "Predicted strenght49: 46.64710235595703\n",
      "Predicted strenght50: 41.23792266845703\n",
      "Predicted strenght51: 36.431705474853516\n",
      "Predicted strenght52: 13.319743156433105\n",
      "Predicted strenght53: 21.253328323364258\n",
      "Predicted strenght54: 35.2884407043457\n",
      "Predicted strenght55: 41.9162712097168\n",
      "Predicted strenght56: 26.208518981933594\n",
      "Predicted strenght57: 13.390992164611816\n",
      "Predicted strenght58: 26.603872299194336\n",
      "Predicted strenght59: 19.825326919555664\n",
      "Predicted strenght60: 47.53199005126953\n",
      "Predicted strenght61: 7.6441240310668945\n",
      "Predicted strenght62: 42.8399543762207\n",
      "Predicted strenght63: 11.286314010620117\n",
      "Predicted strenght64: 14.328898429870605\n",
      "Predicted strenght65: 41.97084045410156\n",
      "Predicted strenght66: 17.988676071166992\n",
      "Predicted strenght67: 61.06758499145508\n",
      "Predicted strenght68: 26.187450408935547\n",
      "Predicted strenght69: 9.183996200561523\n",
      "Predicted strenght70: 42.447479248046875\n",
      "Predicted strenght71: 31.94260597229004\n",
      "Predicted strenght72: 32.122108459472656\n",
      "Predicted strenght73: 26.583005905151367\n",
      "Predicted strenght74: 41.0233039855957\n",
      "Predicted strenght75: 54.320068359375\n",
      "Predicted strenght76: 33.79210662841797\n",
      "Predicted strenght77: 60.08254623413086\n",
      "Predicted strenght78: 52.257469177246094\n",
      "Predicted strenght79: 9.908082962036133\n",
      "Predicted strenght80: 24.419336318969727\n",
      "Predicted strenght81: 48.378299713134766\n",
      "Predicted strenght82: 47.07484436035156\n",
      "Predicted strenght83: 68.2020034790039\n",
      "Predicted strenght84: 14.312162399291992\n",
      "Predicted strenght85: 48.75637435913086\n",
      "Predicted strenght86: 55.87118911743164\n",
      "Predicted strenght87: 69.39474487304688\n",
      "Predicted strenght88: 40.19831085205078\n",
      "Predicted strenght89: 54.49564743041992\n",
      "Predicted strenght90: 32.5982780456543\n",
      "Predicted strenght91: 25.028989791870117\n",
      "Predicted strenght92: 44.531612396240234\n",
      "Predicted strenght93: 35.20916748046875\n",
      "Predicted strenght94: 14.223955154418945\n",
      "Predicted strenght95: 46.82510757446289\n",
      "Predicted strenght96: 20.398366928100586\n",
      "Predicted strenght97: 65.7784194946289\n",
      "Predicted strenght98: 18.423126220703125\n",
      "Predicted strenght99: 40.39282989501953\n",
      "Predicted strenght100: 36.16293716430664\n",
      "Predicted strenght101: 19.30127716064453\n",
      "Predicted strenght102: 22.51677894592285\n",
      "Predicted strenght103: 7.985095500946045\n",
      "Predicted strenght104: 43.34709548950195\n",
      "Predicted strenght105: 59.933555603027344\n",
      "Predicted strenght106: 23.308317184448242\n",
      "Predicted strenght107: 60.18718338012695\n",
      "Predicted strenght108: 27.71088409423828\n",
      "Predicted strenght109: 21.562959671020508\n",
      "Predicted strenght110: 25.028989791870117\n",
      "Predicted strenght111: 39.52284240722656\n",
      "Predicted strenght112: 17.880916595458984\n",
      "Predicted strenght113: 42.395294189453125\n",
      "Predicted strenght114: 61.236358642578125\n",
      "Predicted strenght115: 44.9307975769043\n",
      "Predicted strenght116: 41.41425704956055\n",
      "Predicted strenght117: 46.821773529052734\n",
      "Predicted strenght118: 9.835704803466797\n",
      "Predicted strenght119: 50.0213737487793\n",
      "Predicted strenght120: 60.05339813232422\n",
      "Predicted strenght121: 21.31348419189453\n",
      "Predicted strenght122: 65.80028533935547\n",
      "Predicted strenght123: 41.86014938354492\n",
      "Predicted strenght124: 49.814361572265625\n",
      "Predicted strenght125: 39.76594924926758\n",
      "Predicted strenght126: 29.021461486816406\n",
      "Predicted strenght127: 38.234867095947266\n",
      "Predicted strenght128: 24.630935668945312\n",
      "Predicted strenght129: 58.53408432006836\n",
      "Predicted strenght130: 35.3492317199707\n",
      "Predicted strenght131: 66.65186309814453\n",
      "Predicted strenght132: 35.887760162353516\n",
      "Predicted strenght133: 58.840667724609375\n",
      "Predicted strenght134: 36.64851379394531\n",
      "Predicted strenght135: 45.948970794677734\n",
      "Predicted strenght136: 21.248573303222656\n",
      "Predicted strenght137: 33.97770690917969\n",
      "Predicted strenght138: 12.80540943145752\n",
      "Predicted strenght139: 34.94145965576172\n",
      "Predicted strenght140: 19.911556243896484\n",
      "Predicted strenght141: 39.07725524902344\n",
      "Predicted strenght142: 60.011844635009766\n",
      "Predicted strenght143: 10.499855995178223\n",
      "Predicted strenght144: 33.67325973510742\n",
      "Predicted strenght145: 48.97321319580078\n",
      "Predicted strenght146: 57.49321746826172\n",
      "Predicted strenght147: 16.12665557861328\n",
      "Predicted strenght148: 42.98987579345703\n",
      "Predicted strenght149: 45.51799774169922\n",
      "Predicted strenght150: 49.744022369384766\n",
      "Predicted strenght151: 34.1070442199707\n",
      "Predicted strenght152: 59.332889556884766\n",
      "Predicted strenght153: 36.80683898925781\n",
      "Predicted strenght154: 14.328898429870605\n",
      "Predicted strenght155: 13.165918350219727\n",
      "Predicted strenght156: 39.92090606689453\n",
      "Predicted strenght157: 5.402010440826416\n",
      "Predicted strenght158: 59.39686965942383\n",
      "Predicted strenght159: 16.61934471130371\n",
      "Predicted strenght160: 67.1889877319336\n",
      "Predicted strenght161: 29.5419864654541\n",
      "Predicted strenght162: 16.644397735595703\n",
      "Predicted strenght163: 14.933290481567383\n",
      "Predicted strenght164: 11.360867500305176\n",
      "Predicted strenght165: 52.799781799316406\n",
      "Predicted strenght166: 12.677865028381348\n",
      "Predicted strenght167: 19.829689025878906\n",
      "Predicted strenght168: 41.66083908081055\n",
      "Predicted strenght169: 24.5273380279541\n",
      "Predicted strenght170: 19.829689025878906\n",
      "Predicted strenght171: 21.312395095825195\n",
      "Predicted strenght172: 60.08885955810547\n",
      "Predicted strenght173: 35.27773666381836\n",
      "Predicted strenght174: 45.40043640136719\n",
      "Predicted strenght175: 33.35899353027344\n",
      "Predicted strenght176: 20.848695755004883\n",
      "Predicted strenght177: 18.223499298095703\n",
      "Predicted strenght178: 27.12858772277832\n",
      "Predicted strenght179: 32.80660629272461\n",
      "Predicted strenght180: 69.70189666748047\n",
      "Predicted strenght181: 51.18952941894531\n",
      "Predicted strenght182: 46.5802116394043\n",
      "Predicted strenght183: 46.932334899902344\n",
      "Predicted strenght184: 46.82510757446289\n",
      "Predicted strenght185: 24.630935668945312\n",
      "Predicted strenght186: 35.20916748046875\n",
      "Predicted strenght187: 29.10267448425293\n",
      "Predicted strenght188: 33.70619201660156\n",
      "Predicted strenght189: 9.34891128540039\n",
      "Predicted strenght190: 41.29490661621094\n",
      "Predicted strenght191: 46.45233917236328\n",
      "Predicted strenght192: 59.65793991088867\n",
      "Predicted strenght193: 65.48033142089844\n",
      "Predicted strenght194: 12.012131690979004\n",
      "Predicted strenght195: 54.37559509277344\n",
      "Predicted strenght196: 26.208518981933594\n",
      "Predicted strenght197: 22.398265838623047\n",
      "Predicted strenght198: 34.617008209228516\n",
      "Predicted strenght199: 65.48033142089844\n",
      "Predicted strenght200: 34.6089973449707\n",
      "Predicted strenght201: 59.933555603027344\n",
      "Predicted strenght202: 36.39765548706055\n",
      "Predicted strenght203: 56.09000015258789\n",
      "Predicted strenght204: 36.111549377441406\n",
      "Predicted strenght205: 35.327850341796875\n",
      "Predicted strenght206: 41.29490661621094\n",
      "Predicted strenght207: 27.0838623046875\n",
      "Predicted strenght208: 36.8291015625\n",
      "Predicted strenght209: 14.503589630126953\n",
      "Predicted strenght210: 12.677865028381348\n",
      "Predicted strenght211: 47.18458938598633\n",
      "Predicted strenght212: 35.14631652832031\n",
      "Predicted strenght213: 9.835704803466797\n",
      "Predicted strenght214: 46.5802116394043\n",
      "Predicted strenght215: 53.11531066894531\n",
      "Predicted strenght216: 36.06572341918945\n",
      "Predicted strenght217: 27.756431579589844\n",
      "Predicted strenght218: 70.6751937866211\n",
      "Predicted strenght219: 20.79380226135254\n",
      "Predicted strenght220: 38.358829498291016\n",
      "Predicted strenght221: 45.07320022583008\n",
      "Predicted strenght222: 16.840930938720703\n",
      "Predicted strenght223: 69.70189666748047\n",
      "Predicted strenght224: 49.821163177490234\n",
      "Predicted strenght225: 56.01933670043945\n",
      "Predicted strenght226: 36.17798614501953\n",
      "Predicted strenght227: 55.87118911743164\n",
      "Predicted strenght228: 26.52129554748535\n",
      "Predicted strenght229: 46.18798828125\n",
      "Predicted strenght230: 36.900978088378906\n",
      "Predicted strenght231: 34.154685974121094\n",
      "Predicted strenght232: 38.234867095947266\n",
      "Predicted strenght233: 74.2148666381836\n",
      "Predicted strenght234: 38.36345291137695\n",
      "Predicted strenght235: 9.423728942871094\n",
      "Predicted strenght236: 63.58500671386719\n",
      "Predicted strenght237: 39.92090606689453\n",
      "Predicted strenght238: 44.52115249633789\n",
      "Predicted strenght239: 36.64851379394531\n",
      "Predicted strenght240: 33.97770690917969\n",
      "Predicted strenght241: 12.152344703674316\n",
      "Predicted strenght242: 46.69725799560547\n",
      "Predicted strenght243: 47.80411148071289\n",
      "Predicted strenght244: 52.799781799316406\n",
      "Predicted strenght245: 28.15394401550293\n",
      "Predicted strenght246: 13.921749114990234\n",
      "Predicted strenght247: 59.65793991088867\n",
      "Predicted strenght248: 20.907745361328125\n",
      "Predicted strenght249: 49.17190933227539\n",
      "Predicted strenght250: 44.94332504272461\n",
      "Predicted strenght251: 26.498371124267578\n",
      "Predicted strenght252: 54.090354919433594\n",
      "Predicted strenght253: 35.60788345336914\n",
      "Predicted strenght254: 40.83039474487305\n",
      "Predicted strenght255: 43.5437126159668\n",
      "Predicted strenght256: 44.77971649169922\n",
      "Predicted strenght257: 29.1943416595459\n",
      "Predicted strenght258: 29.14103126525879\n",
      "Predicted strenght259: 55.44169235229492\n",
      "Predicted strenght260: 49.44263458251953\n",
      "Predicted strenght261: 31.782087326049805\n",
      "Predicted strenght262: 30.675594329833984\n",
      "Predicted strenght263: 36.85478591918945\n",
      "Predicted strenght264: 38.243953704833984\n",
      "Predicted strenght265: 9.158839225769043\n",
      "Predicted strenght266: 53.0008659362793\n",
      "Predicted strenght267: 28.48984718322754\n",
      "Predicted strenght268: 47.42902374267578\n",
      "Predicted strenght269: 26.603872299194336\n",
      "Predicted strenght270: 14.328898429870605\n",
      "Predicted strenght271: 18.028329849243164\n",
      "Predicted strenght272: 26.110254287719727\n",
      "Predicted strenght273: 27.258460998535156\n",
      "Predicted strenght274: 39.05987548828125\n",
      "Predicted strenght275: 17.218425750732422\n",
      "Predicted strenght276: 7.985095500946045\n",
      "Predicted strenght277: 12.677865028381348\n",
      "Predicted strenght278: 22.14413070678711\n",
      "Predicted strenght279: 12.863933563232422\n",
      "Predicted strenght280: 35.35802459716797\n",
      "Predicted strenght281: 27.7126407623291\n",
      "Predicted strenght282: 56.14200210571289\n",
      "Predicted strenght283: 29.87580680847168\n",
      "Predicted strenght284: 44.75645065307617\n",
      "Predicted strenght285: 23.980438232421875\n",
      "Predicted strenght286: 11.450470924377441\n",
      "Predicted strenght287: 26.484437942504883\n",
      "Predicted strenght288: 38.52189636230469\n",
      "Predicted strenght289: 37.935691833496094\n",
      "Predicted strenght290: 13.691014289855957\n",
      "Predicted strenght291: 42.274444580078125\n",
      "Predicted strenght292: 29.133865356445312\n",
      "Predicted strenght293: 14.049967765808105\n",
      "Predicted strenght294: 40.68928527832031\n",
      "Predicted strenght295: 36.053138732910156\n",
      "Predicted strenght296: 50.63066482543945\n",
      "Predicted strenght297: 32.96651077270508\n",
      "Predicted strenght298: 12.677865028381348\n",
      "Predicted strenght299: 21.483280181884766\n",
      "Predicted strenght300: 33.498226165771484\n",
      "Predicted strenght301: 40.498661041259766\n",
      "Predicted strenght302: 10.511862754821777\n",
      "Predicted strenght303: 20.681819915771484\n",
      "Predicted strenght304: 40.758148193359375\n",
      "Predicted strenght305: 54.207828521728516\n",
      "Predicted strenght306: 39.54336166381836\n",
      "Predicted strenght307: 44.9307975769043\n",
      "Predicted strenght308: 35.09925079345703\n",
      "Predicted strenght309: 21.513315200805664\n",
      "Predicted strenght310: 34.358421325683594\n",
      "Predicted strenght311: 61.06758499145508\n",
      "Predicted strenght312: 44.3599967956543\n",
      "Predicted strenght313: 36.683719635009766\n",
      "Predicted strenght314: 52.643943786621094\n",
      "Predicted strenght315: 35.53278732299805\n",
      "Predicted strenght316: 74.2148666381836\n",
      "Predicted strenght317: 49.918235778808594\n",
      "Predicted strenght318: 47.31682205200195\n",
      "Predicted strenght319: 30.598609924316406\n",
      "Predicted strenght320: 17.67194938659668\n",
      "Predicted strenght321: 40.97679138183594\n",
      "Predicted strenght322: 22.193540573120117\n",
      "Predicted strenght323: 38.36515808105469\n",
      "Predicted strenght324: 39.3580322265625\n",
      "Predicted strenght325: 23.93990707397461\n",
      "Predicted strenght326: 50.63066482543945\n",
      "Predicted strenght327: 15.283804893493652\n",
      "Predicted strenght328: 54.296058654785156\n",
      "Predicted strenght329: 15.490958213806152\n",
      "Predicted strenght330: 32.175724029541016\n",
      "Predicted strenght331: 14.431674003601074\n",
      "Predicted strenght332: 38.264015197753906\n",
      "Predicted strenght333: 54.296058654785156\n",
      "Predicted strenght334: 24.204832077026367\n",
      "Predicted strenght335: 56.143680572509766\n",
      "Predicted strenght336: 37.68511962890625\n",
      "Predicted strenght337: 36.053138732910156\n",
      "Predicted strenght338: 24.00776481628418\n",
      "Predicted strenght339: 59.008094787597656\n",
      "Predicted strenght340: 16.310115814208984\n",
      "Predicted strenght341: 27.71088409423828\n",
      "Predicted strenght342: 18.8907470703125\n",
      "Predicted strenght343: 14.933290481567383\n",
      "Predicted strenght344: 51.18952941894531\n",
      "Predicted strenght345: 61.21757888793945\n",
      "Predicted strenght346: 6.0352463722229\n",
      "Predicted strenght347: 30.695430755615234\n",
      "Predicted strenght348: 10.067954063415527\n",
      "Predicted strenght349: 13.542399406433105\n",
      "Predicted strenght350: 50.30894088745117\n",
      "Predicted strenght351: 32.19794845581055\n",
      "Predicted strenght352: 55.89295959472656\n",
      "Predicted strenght353: 19.829689025878906\n",
      "Predicted strenght354: 33.81851577758789\n",
      "Predicted strenght355: 60.684696197509766\n",
      "Predicted strenght356: 24.463584899902344\n",
      "Predicted strenght357: 52.257469177246094\n",
      "Predicted strenght358: 14.658126831054688\n",
      "Predicted strenght359: 27.71088409423828\n",
      "Predicted strenght360: 22.5379581451416\n",
      "Predicted strenght361: 39.5681037902832\n",
      "Predicted strenght362: 59.982059478759766\n",
      "Predicted strenght363: 14.658126831054688\n",
      "Predicted strenght364: 35.60788345336914\n",
      "Predicted strenght365: 23.688182830810547\n",
      "Predicted strenght366: 9.042459487915039\n",
      "Predicted strenght367: 8.557171821594238\n",
      "Predicted strenght368: 53.05937194824219\n",
      "Predicted strenght369: 55.135536193847656\n",
      "Predicted strenght370: 30.768047332763672\n",
      "Predicted strenght371: 44.538780212402344\n",
      "Predicted strenght372: 31.454843521118164\n",
      "Predicted strenght373: 14.619808197021484\n",
      "Predicted strenght374: 23.251558303833008\n",
      "Predicted strenght375: 26.52557945251465\n",
      "Predicted strenght376: 44.358741760253906\n",
      "Predicted strenght377: 65.32733154296875\n",
      "Predicted strenght378: 37.06987762451172\n",
      "Predicted strenght379: 41.92300033569336\n",
      "Predicted strenght380: 5.425248146057129\n",
      "Predicted strenght381: 20.648807525634766\n",
      "Predicted strenght382: 12.152344703674316\n",
      "Predicted strenght383: 32.677528381347656\n",
      "Predicted strenght384: 46.86660385131836\n",
      "Predicted strenght385: 25.312591552734375\n",
      "Predicted strenght386: 19.544572830200195\n",
      "Predicted strenght387: 9.34891128540039\n",
      "Predicted strenght388: 23.817914962768555\n",
      "Predicted strenght389: 17.471878051757812\n",
      "Predicted strenght390: 45.73537063598633\n",
      "Predicted strenght391: 23.248775482177734\n",
      "Predicted strenght392: 29.87580680847168\n",
      "Predicted strenght393: 32.65625\n",
      "Predicted strenght394: 10.985762596130371\n",
      "Predicted strenght395: 63.1251335144043\n",
      "Predicted strenght396: 9.158839225769043\n",
      "Predicted strenght397: 40.39282989501953\n",
      "Predicted strenght398: 45.41548156738281\n",
      "Predicted strenght399: 58.64030456542969\n",
      "Predicted strenght400: 75.53960418701172\n",
      "Predicted strenght401: 40.19831085205078\n",
      "Predicted strenght402: 47.02893829345703\n",
      "Predicted strenght403: 12.152344703674316\n",
      "Predicted strenght404: 34.16326141357422\n",
      "Predicted strenght405: 47.44873809814453\n",
      "Predicted strenght406: 60.18718338012695\n",
      "Predicted strenght407: 20.907745361328125\n",
      "Predicted strenght408: 40.56022262573242\n",
      "Predicted strenght409: 32.19794845581055\n",
      "Predicted strenght410: 35.35802459716797\n",
      "Predicted strenght411: 37.906402587890625\n",
      "Predicted strenght412: 41.784271240234375\n",
      "Predicted strenght413: 47.53199005126953\n",
      "Predicted strenght414: 42.90045166015625\n",
      "Predicted strenght415: 28.42435073852539\n",
      "Predicted strenght416: 16.310115814208984\n",
      "Predicted strenght417: 23.55314826965332\n",
      "Predicted strenght418: 25.984390258789062\n",
      "Predicted strenght419: 16.017972946166992\n",
      "Predicted strenght420: 48.329769134521484\n",
      "Predicted strenght421: 17.318758010864258\n",
      "Predicted strenght422: 41.26625442504883\n",
      "Predicted strenght423: 55.79244613647461\n",
      "Predicted strenght424: 33.90024185180664\n",
      "Predicted strenght425: 42.274444580078125\n",
      "Predicted strenght426: 24.630935668945312\n",
      "Predicted strenght427: 12.495329856872559\n",
      "Predicted strenght428: 46.18798828125\n",
      "Predicted strenght429: 75.53960418701172\n",
      "Predicted strenght430: 54.15431213378906\n",
      "Predicted strenght431: 29.645998001098633\n",
      "Predicted strenght432: 19.859695434570312\n",
      "Predicted strenght433: 12.655389785766602\n",
      "Predicted strenght434: 48.45594787597656\n",
      "Predicted strenght435: 52.06520462036133\n",
      "Predicted strenght436: 38.177001953125\n",
      "Predicted strenght437: 23.622346878051758\n",
      "Predicted strenght438: 12.677865028381348\n",
      "Predicted strenght439: 31.94260597229004\n",
      "Predicted strenght440: 38.034420013427734\n",
      "Predicted strenght441: 11.450470924377441\n",
      "Predicted strenght442: 24.682857513427734\n",
      "Predicted strenght443: 12.012131690979004\n",
      "Predicted strenght444: 32.65625\n",
      "Predicted strenght445: 39.285091400146484\n",
      "Predicted strenght446: 9.674464225769043\n",
      "Predicted strenght447: 28.377948760986328\n",
      "Predicted strenght448: 58.979156494140625\n",
      "Predicted strenght449: 13.034878730773926\n",
      "Predicted strenght450: 44.126522064208984\n",
      "Predicted strenght451: 26.99816131591797\n",
      "Predicted strenght452: 32.175724029541016\n",
      "Predicted strenght453: 23.817914962768555\n",
      "Predicted strenght454: 27.878662109375\n",
      "Predicted strenght455: 44.380096435546875\n",
      "Predicted strenght456: 41.004783630371094\n",
      "Predicted strenght457: 33.79210662841797\n",
      "Predicted strenght458: 16.840930938720703\n",
      "Predicted strenght459: 16.12665557861328\n",
      "Predicted strenght460: 63.265968322753906\n",
      "Predicted strenght461: 32.248619079589844\n",
      "Predicted strenght462: 19.30127716064453\n",
      "Predicted strenght463: 38.88588333129883\n",
      "Predicted strenght464: 61.21757888793945\n",
      "Predicted strenght465: 31.454843521118164\n",
      "Predicted strenght466: 25.544580459594727\n",
      "Predicted strenght467: 24.463584899902344\n",
      "Predicted strenght468: 61.236358642578125\n",
      "Predicted strenght469: 47.17887878417969\n",
      "Predicted strenght470: 10.480409622192383\n",
      "Predicted strenght471: 23.169939041137695\n",
      "Predicted strenght472: 25.293968200683594\n",
      "Predicted strenght473: 5.736435890197754\n",
      "Predicted strenght474: 22.249347686767578\n",
      "Predicted strenght475: 57.49321746826172\n",
      "Predicted strenght476: 30.960561752319336\n",
      "Predicted strenght477: 38.24186325073242\n",
      "Predicted strenght478: 23.669677734375\n",
      "Predicted strenght479: 16.755359649658203\n",
      "Predicted strenght480: 22.184267044067383\n",
      "Predicted strenght481: 37.32896041870117\n",
      "Predicted strenght482: 18.91225242614746\n",
      "Predicted strenght483: 29.872310638427734\n",
      "Predicted strenght484: 45.87074661254883\n",
      "Predicted strenght485: 42.531246185302734\n",
      "Predicted strenght486: 20.405054092407227\n",
      "Predicted strenght487: 23.980438232421875\n",
      "Predicted strenght488: 28.27864646911621\n",
      "Predicted strenght489: 30.124343872070312\n",
      "Predicted strenght490: 17.779659271240234\n",
      "Predicted strenght491: 36.21607971191406\n",
      "Predicted strenght492: 51.423255920410156\n",
      "Predicted strenght493: 26.798812866210938\n",
      "Predicted strenght494: 12.152344703674316\n",
      "Predicted strenght495: 37.094024658203125\n",
      "Predicted strenght496: 15.21338176727295\n",
      "Predicted strenght497: 54.23208999633789\n",
      "Predicted strenght498: 44.358741760253906\n",
      "Predicted strenght499: 49.18991470336914\n",
      "Predicted strenght500: 36.03498840332031\n",
      "Predicted strenght501: 15.81624984741211\n",
      "Predicted strenght502: 20.159875869750977\n",
      "Predicted strenght503: 44.07770538330078\n",
      "Predicted strenght504: 20.118877410888672\n",
      "Predicted strenght505: 56.27251434326172\n",
      "Predicted strenght506: 63.1251335144043\n",
      "Predicted strenght507: 33.72568130493164\n",
      "Predicted strenght508: 32.38323974609375\n",
      "Predicted strenght509: 31.645824432373047\n",
      "Predicted strenght510: 73.83432006835938\n",
      "Predicted strenght511: 63.50375747680664\n",
      "Predicted strenght512: 46.538368225097656\n",
      "Predicted strenght513: 30.48865509033203\n",
      "Predicted strenght514: 39.19026184082031\n",
      "Predicted strenght515: 35.887760162353516\n",
      "Predicted strenght516: 33.967411041259766\n",
      "Predicted strenght517: 34.154685974121094\n",
      "Predicted strenght518: 58.979156494140625\n",
      "Predicted strenght519: 66.51448822021484\n",
      "Predicted strenght520: 12.495329856872559\n",
      "Predicted strenght521: 27.972827911376953\n",
      "Predicted strenght522: 65.48033142089844\n",
      "Predicted strenght523: 65.48033142089844\n",
      "Predicted strenght524: 49.821163177490234\n",
      "Predicted strenght525: 37.094024658203125\n",
      "Predicted strenght526: 38.928165435791016\n",
      "Predicted strenght527: 30.59526252746582\n",
      "Predicted strenght528: 22.44540023803711\n",
      "Predicted strenght529: 41.66083908081055\n",
      "Predicted strenght530: 69.65885162353516\n",
      "Predicted strenght531: 51.26705551147461\n",
      "Predicted strenght532: 36.254547119140625\n",
      "Predicted strenght533: 29.021461486816406\n",
      "Predicted strenght534: 50.087764739990234\n",
      "Predicted strenght535: 60.011844635009766\n",
      "Predicted strenght536: 34.513065338134766\n",
      "Predicted strenght537: 29.1943416595459\n",
      "Predicted strenght538: 13.691014289855957\n",
      "Predicted strenght539: 20.79380226135254\n",
      "Predicted strenght540: 39.2686653137207\n",
      "Predicted strenght541: 27.71088409423828\n",
      "Predicted strenght542: 8.476349830627441\n",
      "Predicted strenght543: 7.832365036010742\n",
      "Predicted strenght544: 34.1168212890625\n",
      "Predicted strenght545: 42.87596130371094\n",
      "Predicted strenght546: 41.157936096191406\n",
      "Predicted strenght547: 32.52745819091797\n",
      "Predicted strenght548: 9.197592735290527\n",
      "Predicted strenght549: 38.92477035522461\n",
      "Predicted strenght550: 13.762090682983398\n",
      "Predicted strenght551: 41.2043571472168\n",
      "Predicted strenght552: 54.41537094116211\n",
      "Predicted strenght553: 26.87017059326172\n",
      "Predicted strenght554: 25.028989791870117\n",
      "Predicted strenght555: 33.72568130493164\n",
      "Predicted strenght556: 30.59526252746582\n",
      "Predicted strenght557: 36.1436882019043\n",
      "Predicted strenght558: 48.02287673950195\n",
      "Predicted strenght559: 75.53960418701172\n",
      "Predicted strenght560: 12.489648818969727\n",
      "Predicted strenght561: 30.703611373901367\n",
      "Predicted strenght562: 47.80411148071289\n",
      "Predicted strenght563: 37.68511962890625\n",
      "Predicted strenght564: 42.027591705322266\n",
      "Predicted strenght565: 18.477880477905273\n",
      "Predicted strenght566: 14.984712600708008\n",
      "Predicted strenght567: 11.501629829406738\n",
      "Predicted strenght568: 54.821659088134766\n",
      "Predicted strenght569: 25.312591552734375\n",
      "Predicted strenght570: 60.823909759521484\n",
      "Predicted strenght571: 24.932668685913086\n",
      "Predicted strenght572: 30.768047332763672\n",
      "Predicted strenght573: 15.283804893493652\n",
      "Predicted strenght574: 37.906402587890625\n",
      "Predicted strenght575: 17.988676071166992\n",
      "Predicted strenght576: 18.94908905029297\n",
      "Predicted strenght577: 14.223955154418945\n",
      "Predicted strenght578: 11.008232116699219\n",
      "Predicted strenght579: 41.71340560913086\n",
      "Predicted strenght580: 47.274505615234375\n",
      "Predicted strenght581: 30.124603271484375\n",
      "Predicted strenght582: 35.225032806396484\n"
     ]
    }
   ],
   "source": [
    "# Make predictions on new data.\n",
    "y_pred = xgbr2.predict(X_test_xgbr)\n",
    "\n",
    "# Output the predictions.\n",
    "for i in range(len(y_pred)):\n",
    "    print(f\"Predicted strenght{i}: {y_pred[i]}\")"
   ]
  },
  {
   "cell_type": "markdown",
   "id": "83a45b63",
   "metadata": {},
   "source": [
    "# Compare the predicted durability performance of RAC with conventional concrete "
   ]
  },
  {
   "cell_type": "code",
   "execution_count": 80,
   "id": "83094a34",
   "metadata": {},
   "outputs": [],
   "source": [
    "features = ['cement', 'blast_furnace_slag', 'fly_ash', 'water', 'superplasticizer', 'coarse_aggregate', 'fine_aggregate ', 'age']\n",
    "target = 'concrete_compressive_strength'"
   ]
  },
  {
   "cell_type": "code",
   "execution_count": 81,
   "id": "3f397210",
   "metadata": {},
   "outputs": [],
   "source": [
    "df['total_aggregate'] = df['coarse_aggregate'] + df['fine_aggregate ']\n",
    "df['recycled_aggregate_proportion'] = (df['blast_furnace_slag'] + df['fly_ash']) / df['total_aggregate']\n",
    "\n",
    "threshold = 0.05  # Adjust as needed\n",
    "df['concrete_type'] = df['recycled_aggregate_proportion'].apply(lambda x: 'Conventional' if x >= threshold else 'RAC')"
   ]
  },
  {
   "cell_type": "code",
   "execution_count": 69,
   "id": "db3a3fcf",
   "metadata": {},
   "outputs": [
    {
     "data": {
      "text/html": [
       "<div>\n",
       "<style scoped>\n",
       "    .dataframe tbody tr th:only-of-type {\n",
       "        vertical-align: middle;\n",
       "    }\n",
       "\n",
       "    .dataframe tbody tr th {\n",
       "        vertical-align: top;\n",
       "    }\n",
       "\n",
       "    .dataframe thead th {\n",
       "        text-align: right;\n",
       "    }\n",
       "</style>\n",
       "<table border=\"1\" class=\"dataframe\">\n",
       "  <thead>\n",
       "    <tr style=\"text-align: right;\">\n",
       "      <th></th>\n",
       "      <th>cement</th>\n",
       "      <th>blast_furnace_slag</th>\n",
       "      <th>fly_ash</th>\n",
       "      <th>water</th>\n",
       "      <th>superplasticizer</th>\n",
       "      <th>coarse_aggregate</th>\n",
       "      <th>fine_aggregate</th>\n",
       "      <th>age</th>\n",
       "      <th>concrete_compressive_strength</th>\n",
       "      <th>total_aggregate</th>\n",
       "      <th>recycled_aggregate_proportion</th>\n",
       "      <th>concrete_type</th>\n",
       "    </tr>\n",
       "  </thead>\n",
       "  <tbody>\n",
       "    <tr>\n",
       "      <th>0</th>\n",
       "      <td>540.0</td>\n",
       "      <td>0.0</td>\n",
       "      <td>0.0</td>\n",
       "      <td>162.0</td>\n",
       "      <td>2.5</td>\n",
       "      <td>1040.0</td>\n",
       "      <td>676.0</td>\n",
       "      <td>28</td>\n",
       "      <td>79.99</td>\n",
       "      <td>1716.0</td>\n",
       "      <td>0.000000</td>\n",
       "      <td>RAC</td>\n",
       "    </tr>\n",
       "    <tr>\n",
       "      <th>1</th>\n",
       "      <td>540.0</td>\n",
       "      <td>0.0</td>\n",
       "      <td>0.0</td>\n",
       "      <td>162.0</td>\n",
       "      <td>2.5</td>\n",
       "      <td>1055.0</td>\n",
       "      <td>676.0</td>\n",
       "      <td>28</td>\n",
       "      <td>61.89</td>\n",
       "      <td>1731.0</td>\n",
       "      <td>0.000000</td>\n",
       "      <td>RAC</td>\n",
       "    </tr>\n",
       "    <tr>\n",
       "      <th>5</th>\n",
       "      <td>266.0</td>\n",
       "      <td>114.0</td>\n",
       "      <td>0.0</td>\n",
       "      <td>228.0</td>\n",
       "      <td>0.0</td>\n",
       "      <td>932.0</td>\n",
       "      <td>670.0</td>\n",
       "      <td>90</td>\n",
       "      <td>47.03</td>\n",
       "      <td>1602.0</td>\n",
       "      <td>0.071161</td>\n",
       "      <td>Conventional</td>\n",
       "    </tr>\n",
       "    <tr>\n",
       "      <th>7</th>\n",
       "      <td>380.0</td>\n",
       "      <td>95.0</td>\n",
       "      <td>0.0</td>\n",
       "      <td>228.0</td>\n",
       "      <td>0.0</td>\n",
       "      <td>932.0</td>\n",
       "      <td>594.0</td>\n",
       "      <td>28</td>\n",
       "      <td>36.45</td>\n",
       "      <td>1526.0</td>\n",
       "      <td>0.062254</td>\n",
       "      <td>Conventional</td>\n",
       "    </tr>\n",
       "    <tr>\n",
       "      <th>8</th>\n",
       "      <td>266.0</td>\n",
       "      <td>114.0</td>\n",
       "      <td>0.0</td>\n",
       "      <td>228.0</td>\n",
       "      <td>0.0</td>\n",
       "      <td>932.0</td>\n",
       "      <td>670.0</td>\n",
       "      <td>28</td>\n",
       "      <td>45.85</td>\n",
       "      <td>1602.0</td>\n",
       "      <td>0.071161</td>\n",
       "      <td>Conventional</td>\n",
       "    </tr>\n",
       "  </tbody>\n",
       "</table>\n",
       "</div>"
      ],
      "text/plain": [
       "   cement  blast_furnace_slag  fly_ash  water  superplasticizer  \\\n",
       "0   540.0                 0.0      0.0  162.0               2.5   \n",
       "1   540.0                 0.0      0.0  162.0               2.5   \n",
       "5   266.0               114.0      0.0  228.0               0.0   \n",
       "7   380.0                95.0      0.0  228.0               0.0   \n",
       "8   266.0               114.0      0.0  228.0               0.0   \n",
       "\n",
       "   coarse_aggregate  fine_aggregate   age  concrete_compressive_strength  \\\n",
       "0            1040.0            676.0   28                          79.99   \n",
       "1            1055.0            676.0   28                          61.89   \n",
       "5             932.0            670.0   90                          47.03   \n",
       "7             932.0            594.0   28                          36.45   \n",
       "8             932.0            670.0   28                          45.85   \n",
       "\n",
       "   total_aggregate  recycled_aggregate_proportion concrete_type  \n",
       "0           1716.0                       0.000000           RAC  \n",
       "1           1731.0                       0.000000           RAC  \n",
       "5           1602.0                       0.071161  Conventional  \n",
       "7           1526.0                       0.062254  Conventional  \n",
       "8           1602.0                       0.071161  Conventional  "
      ]
     },
     "execution_count": 69,
     "metadata": {},
     "output_type": "execute_result"
    }
   ],
   "source": [
    "df.head()"
   ]
  },
  {
   "cell_type": "code",
   "execution_count": 70,
   "id": "ef526048",
   "metadata": {},
   "outputs": [
    {
     "data": {
      "text/plain": [
       "concrete_type\n",
       "Conventional    1522\n",
       "RAC              420\n",
       "dtype: int64"
      ]
     },
     "execution_count": 70,
     "metadata": {},
     "output_type": "execute_result"
    }
   ],
   "source": [
    "df.value_counts('concrete_type')"
   ]
  },
  {
   "cell_type": "code",
   "execution_count": 71,
   "id": "91a6d3b2",
   "metadata": {},
   "outputs": [
    {
     "name": "stdout",
     "output_type": "stream",
     "text": [
      "MSE for RAC: 15.686166281447308\n",
      "MSE for Conventional Concrete: 15.879234290459117\n"
     ]
    }
   ],
   "source": [
    "# Split the data into training and test sets for RAC and Conventional Concrete\n",
    "rac_data = df[df['concrete_type'] == 'RAC']\n",
    "conventional_data = df[df['concrete_type'] == 'Conventional']\n",
    "\n",
    "# Check if you have a minimum number of samples for each type\n",
    "if len(rac_data) < 2 or len(conventional_data) < 2:\n",
    "    raise ValueError(\"Insufficient data for analysis. Ensure that your dataset contains samples for both RAC and Conventional concrete.\")\n",
    "\n",
    "rac_X_train, rac_X_test, rac_y_train, rac_y_test = train_test_split(rac_data[features], rac_data[target], test_size=0.2, random_state=42)\n",
    "conventional_X_train, conventional_X_test, conventional_y_train, conventional_y_test = train_test_split(conventional_data[features], conventional_data[target], test_size=0.2, random_state=42)\n",
    "\n",
    "# Train linear regression models for RAC and Conventional Concrete\n",
    "rac_model = XGBRegressor(base_score=0.5, booster='gbtree', colsample_bylevel=1,\n",
    "             colsample_bynode=1, colsample_bytree=0.5, gamma=0.2, gpu_id=-1,\n",
    "             importance_type='gain', interaction_constraints='',\n",
    "             learning_rate=1, max_delta_step=0, max_depth=4, min_child_weight=4,\n",
    "            monotone_constraints='()', n_estimators=100,\n",
    "             n_jobs=16, num_parallel_tree=1, random_state=0, reg_alpha=0.5,\n",
    "             reg_lambda=1000, scale_pos_weight=1, subsample=0.9,\n",
    "             tree_method='exact', validate_parameters=1, verbosity=None)\n",
    "\n",
    "rac_model.fit(rac_X_train, rac_y_train)\n",
    "\n",
    "conventional_model =XGBRegressor(base_score=0.5, booster='gbtree', colsample_bylevel=1,\n",
    "             colsample_bynode=1, colsample_bytree=0.5, gamma=0.2, gpu_id=-1,\n",
    "             importance_type='gain', interaction_constraints='',\n",
    "             learning_rate=1, max_delta_step=0, max_depth=4, min_child_weight=4,\n",
    "            monotone_constraints='()', n_estimators=100,\n",
    "             n_jobs=16, num_parallel_tree=1, random_state=0, reg_alpha=0.5,\n",
    "             reg_lambda=1000, scale_pos_weight=1, subsample=0.9,\n",
    "             tree_method='exact', validate_parameters=1, verbosity=None)\n",
    "\n",
    "conventional_model.fit(conventional_X_train, conventional_y_train)\n",
    "\n",
    "# Make predictions for RAC and Conventional Concrete\n",
    "rac_predictions = rac_model.predict(rac_X_test)\n",
    "conventional_predictions = conventional_model.predict(conventional_X_test)\n",
    "\n",
    "# Calculate the MSE for both\n",
    "mse_rac = mean_squared_error(rac_y_test, rac_predictions)\n",
    "mse_conventional = mean_squared_error(conventional_y_test, conventional_predictions)\n",
    "\n",
    "# Print the results\n",
    "print(f'MSE for RAC: {mse_rac}')\n",
    "print(f'MSE for Conventional Concrete: {mse_conventional}')"
   ]
  },
  {
   "cell_type": "code",
   "execution_count": 72,
   "id": "3e7d4c3b",
   "metadata": {},
   "outputs": [
    {
     "name": "stdout",
     "output_type": "stream",
     "text": [
      "RAC has a lower MSE than conventional concrete, so it may be a promising sustainable alternative.\n"
     ]
    }
   ],
   "source": [
    "# Compare the MSE for RAC and conventional concrete\n",
    "if mse_rac < mse_conventional:\n",
    "    print('RAC has a lower MSE than conventional concrete, so it may be a promising sustainable alternative.')\n",
    "else:\n",
    "    print('Conventional concrete has a lower MSE than RAC, so it may be the better choice for this project.')"
   ]
  },
  {
   "cell_type": "code",
   "execution_count": null,
   "id": "42f1fc64",
   "metadata": {},
   "outputs": [],
   "source": []
  },
  {
   "cell_type": "code",
   "execution_count": null,
   "id": "871e8032",
   "metadata": {},
   "outputs": [],
   "source": []
  },
  {
   "cell_type": "code",
   "execution_count": null,
   "id": "13a68d1c",
   "metadata": {},
   "outputs": [],
   "source": []
  },
  {
   "cell_type": "code",
   "execution_count": null,
   "id": "5674dc74",
   "metadata": {},
   "outputs": [],
   "source": []
  },
  {
   "cell_type": "markdown",
   "id": "659630be",
   "metadata": {},
   "source": [
    "# Identify the optimal mix design of RAC that maximizes resource efficiency in construction projects."
   ]
  },
  {
   "cell_type": "code",
   "execution_count": null,
   "id": "f0278f06",
   "metadata": {},
   "outputs": [],
   "source": []
  },
  {
   "cell_type": "code",
   "execution_count": 73,
   "id": "944a38c7",
   "metadata": {},
   "outputs": [
    {
     "data": {
      "text/html": [
       "<div>\n",
       "<style scoped>\n",
       "    .dataframe tbody tr th:only-of-type {\n",
       "        vertical-align: middle;\n",
       "    }\n",
       "\n",
       "    .dataframe tbody tr th {\n",
       "        vertical-align: top;\n",
       "    }\n",
       "\n",
       "    .dataframe thead th {\n",
       "        text-align: right;\n",
       "    }\n",
       "</style>\n",
       "<table border=\"1\" class=\"dataframe\">\n",
       "  <thead>\n",
       "    <tr style=\"text-align: right;\">\n",
       "      <th></th>\n",
       "      <th>cement</th>\n",
       "      <th>blast_furnace_slag</th>\n",
       "      <th>fly_ash</th>\n",
       "      <th>water</th>\n",
       "      <th>superplasticizer</th>\n",
       "      <th>coarse_aggregate</th>\n",
       "      <th>fine_aggregate</th>\n",
       "      <th>age</th>\n",
       "      <th>concrete_compressive_strength</th>\n",
       "      <th>total_aggregate</th>\n",
       "      <th>recycled_aggregate_proportion</th>\n",
       "    </tr>\n",
       "  </thead>\n",
       "  <tbody>\n",
       "    <tr>\n",
       "      <th>count</th>\n",
       "      <td>1942.000000</td>\n",
       "      <td>1942.000000</td>\n",
       "      <td>1942.000000</td>\n",
       "      <td>1942.000000</td>\n",
       "      <td>1942.000000</td>\n",
       "      <td>1942.000000</td>\n",
       "      <td>1942.000000</td>\n",
       "      <td>1942.000000</td>\n",
       "      <td>1942.000000</td>\n",
       "      <td>1942.000000</td>\n",
       "      <td>1942.000000</td>\n",
       "    </tr>\n",
       "    <tr>\n",
       "      <th>mean</th>\n",
       "      <td>278.077240</td>\n",
       "      <td>74.776107</td>\n",
       "      <td>57.480947</td>\n",
       "      <td>179.791246</td>\n",
       "      <td>6.581668</td>\n",
       "      <td>972.969825</td>\n",
       "      <td>777.690113</td>\n",
       "      <td>32.514933</td>\n",
       "      <td>35.310999</td>\n",
       "      <td>1750.659938</td>\n",
       "      <td>0.077069</td>\n",
       "    </tr>\n",
       "    <tr>\n",
       "      <th>std</th>\n",
       "      <td>104.029489</td>\n",
       "      <td>86.725396</td>\n",
       "      <td>64.444812</td>\n",
       "      <td>20.209196</td>\n",
       "      <td>5.946032</td>\n",
       "      <td>78.691453</td>\n",
       "      <td>76.718392</td>\n",
       "      <td>28.609012</td>\n",
       "      <td>16.872843</td>\n",
       "      <td>98.219697</td>\n",
       "      <td>0.053771</td>\n",
       "    </tr>\n",
       "    <tr>\n",
       "      <th>min</th>\n",
       "      <td>102.000000</td>\n",
       "      <td>0.000000</td>\n",
       "      <td>0.000000</td>\n",
       "      <td>121.800000</td>\n",
       "      <td>0.000000</td>\n",
       "      <td>801.000000</td>\n",
       "      <td>594.000000</td>\n",
       "      <td>1.000000</td>\n",
       "      <td>2.330000</td>\n",
       "      <td>1457.000000</td>\n",
       "      <td>0.000000</td>\n",
       "    </tr>\n",
       "    <tr>\n",
       "      <th>25%</th>\n",
       "      <td>190.300000</td>\n",
       "      <td>0.000000</td>\n",
       "      <td>0.000000</td>\n",
       "      <td>164.800000</td>\n",
       "      <td>0.000000</td>\n",
       "      <td>931.225000</td>\n",
       "      <td>739.725000</td>\n",
       "      <td>7.000000</td>\n",
       "      <td>22.935000</td>\n",
       "      <td>1688.250000</td>\n",
       "      <td>0.052629</td>\n",
       "    </tr>\n",
       "    <tr>\n",
       "      <th>50%</th>\n",
       "      <td>261.000000</td>\n",
       "      <td>22.000000</td>\n",
       "      <td>0.000000</td>\n",
       "      <td>182.500000</td>\n",
       "      <td>7.000000</td>\n",
       "      <td>968.000000</td>\n",
       "      <td>780.100000</td>\n",
       "      <td>28.000000</td>\n",
       "      <td>33.610000</td>\n",
       "      <td>1754.100000</td>\n",
       "      <td>0.071161</td>\n",
       "    </tr>\n",
       "    <tr>\n",
       "      <th>75%</th>\n",
       "      <td>350.000000</td>\n",
       "      <td>145.000000</td>\n",
       "      <td>118.300000</td>\n",
       "      <td>192.000000</td>\n",
       "      <td>10.400000</td>\n",
       "      <td>1030.750000</td>\n",
       "      <td>825.000000</td>\n",
       "      <td>28.000000</td>\n",
       "      <td>45.617500</td>\n",
       "      <td>1829.900000</td>\n",
       "      <td>0.111125</td>\n",
       "    </tr>\n",
       "    <tr>\n",
       "      <th>max</th>\n",
       "      <td>540.000000</td>\n",
       "      <td>359.400000</td>\n",
       "      <td>200.100000</td>\n",
       "      <td>247.000000</td>\n",
       "      <td>32.200000</td>\n",
       "      <td>1145.000000</td>\n",
       "      <td>992.600000</td>\n",
       "      <td>120.000000</td>\n",
       "      <td>82.600000</td>\n",
       "      <td>1970.000000</td>\n",
       "      <td>0.259589</td>\n",
       "    </tr>\n",
       "  </tbody>\n",
       "</table>\n",
       "</div>"
      ],
      "text/plain": [
       "            cement  blast_furnace_slag      fly_ash        water  \\\n",
       "count  1942.000000         1942.000000  1942.000000  1942.000000   \n",
       "mean    278.077240           74.776107    57.480947   179.791246   \n",
       "std     104.029489           86.725396    64.444812    20.209196   \n",
       "min     102.000000            0.000000     0.000000   121.800000   \n",
       "25%     190.300000            0.000000     0.000000   164.800000   \n",
       "50%     261.000000           22.000000     0.000000   182.500000   \n",
       "75%     350.000000          145.000000   118.300000   192.000000   \n",
       "max     540.000000          359.400000   200.100000   247.000000   \n",
       "\n",
       "       superplasticizer  coarse_aggregate  fine_aggregate           age  \\\n",
       "count       1942.000000       1942.000000      1942.000000  1942.000000   \n",
       "mean           6.581668        972.969825       777.690113    32.514933   \n",
       "std            5.946032         78.691453        76.718392    28.609012   \n",
       "min            0.000000        801.000000       594.000000     1.000000   \n",
       "25%            0.000000        931.225000       739.725000     7.000000   \n",
       "50%            7.000000        968.000000       780.100000    28.000000   \n",
       "75%           10.400000       1030.750000       825.000000    28.000000   \n",
       "max           32.200000       1145.000000       992.600000   120.000000   \n",
       "\n",
       "       concrete_compressive_strength  total_aggregate  \\\n",
       "count                    1942.000000      1942.000000   \n",
       "mean                       35.310999      1750.659938   \n",
       "std                        16.872843        98.219697   \n",
       "min                         2.330000      1457.000000   \n",
       "25%                        22.935000      1688.250000   \n",
       "50%                        33.610000      1754.100000   \n",
       "75%                        45.617500      1829.900000   \n",
       "max                        82.600000      1970.000000   \n",
       "\n",
       "       recycled_aggregate_proportion  \n",
       "count                    1942.000000  \n",
       "mean                        0.077069  \n",
       "std                         0.053771  \n",
       "min                         0.000000  \n",
       "25%                         0.052629  \n",
       "50%                         0.071161  \n",
       "75%                         0.111125  \n",
       "max                         0.259589  "
      ]
     },
     "execution_count": 73,
     "metadata": {},
     "output_type": "execute_result"
    }
   ],
   "source": [
    "df.describe()"
   ]
  },
  {
   "cell_type": "code",
   "execution_count": 74,
   "id": "0cda92eb",
   "metadata": {},
   "outputs": [
    {
     "data": {
      "text/plain": [
       "Index(['cement', 'blast_furnace_slag', 'fly_ash', 'water', 'superplasticizer',\n",
       "       'coarse_aggregate', 'fine_aggregate ', 'age',\n",
       "       'concrete_compressive_strength', 'total_aggregate',\n",
       "       'recycled_aggregate_proportion', 'concrete_type'],\n",
       "      dtype='object')"
      ]
     },
     "execution_count": 74,
     "metadata": {},
     "output_type": "execute_result"
    }
   ],
   "source": [
    "df.columns"
   ]
  },
  {
   "cell_type": "code",
   "execution_count": 75,
   "id": "e1b2f4da",
   "metadata": {},
   "outputs": [
    {
     "name": "stdout",
     "output_type": "stream",
     "text": [
      "Initial Mix Design Values:\n",
      "cement: 278.07723995880514\n",
      "blast_furnace_slag: 74.7761071060763\n",
      "fly_ash: 57.48094747682802\n",
      "water: 179.79124613800204\n",
      "superplasticizer: 6.581668383110197\n",
      "coarse_aggregate: 972.9698249227599\n",
      "age: 32.51493305870237\n",
      "concrete_compressive_strength: 35.3109989701338\n",
      "fine_aggregate : 777.6901132852737\n"
     ]
    }
   ],
   "source": [
    "\n",
    "# Calculate mean values for each mix design variable\n",
    "\n",
    "initial_mix_design = {\n",
    "    'cement': df['cement'].mean(),\n",
    "    'blast_furnace_slag': df['blast_furnace_slag'].mean(),\n",
    "    'fly_ash': df['fly_ash'].mean(),\n",
    "    'water': df['water'].mean(),\n",
    "    'superplasticizer': df['superplasticizer'].mean(),\n",
    "    'coarse_aggregate': df['coarse_aggregate'].mean(),\n",
    "    'age': df['age'].mean(),\n",
    "    'concrete_compressive_strength': df['concrete_compressive_strength'].mean(),\n",
    "    'fine_aggregate ': df['fine_aggregate '].mean()\n",
    "}\n",
    "\n",
    "# Print the initial mix design values\n",
    "print(\"Initial Mix Design Values:\")\n",
    "for variable, value in initial_mix_design.items():\n",
    "    print(f\"{variable}: {value}\")\n"
   ]
  },
  {
   "cell_type": "code",
   "execution_count": null,
   "id": "0c6fda23",
   "metadata": {},
   "outputs": [],
   "source": []
  },
  {
   "cell_type": "code",
   "execution_count": null,
   "id": "ebbb15e6",
   "metadata": {},
   "outputs": [],
   "source": []
  },
  {
   "cell_type": "code",
   "execution_count": 76,
   "id": "e009a670",
   "metadata": {},
   "outputs": [
    {
     "name": "stdout",
     "output_type": "stream",
     "text": [
      "age - Bounds: (1, 120)\n",
      "cement - Bounds: (102.0, 540.0)\n",
      "water - Bounds: (121.8, 247.0)\n",
      "fly_ash - Bounds: (0.0, 200.1)\n",
      "superplasticizer - Bounds: (0.0, 32.2)\n",
      "blast_furnace_slag - Bounds: (0.0, 359.4)\n",
      "coarse_aggregate - Bounds: (801.0, 1145.0)\n",
      "concrete_compressive_strength - Bounds: (2.33, 82.6)\n",
      "fine_aggregate  - Bounds: (594.0, 992.6)\n"
     ]
    }
   ],
   "source": [
    "# Define the mix design variables for which you want to calculate bounds\n",
    "mix_design_variables = ['age', 'cement', 'water', 'fly_ash', 'superplasticizer', 'blast_furnace_slag', 'coarse_aggregate','concrete_compressive_strength','fine_aggregate ']\n",
    "\n",
    "# Calculate bounds for each mix design variable\n",
    "variable_bounds = {}\n",
    "\n",
    "# Loop through each mix design variable and calculate its bounds\n",
    "for variable in mix_design_variables:\n",
    "    min_value = df[variable].min()\n",
    "    max_value = df[variable].max()\n",
    "    variable_bounds[variable] = (min_value, max_value)\n",
    "\n",
    "# Print the calculated bounds for the selected mix design variables\n",
    "for variable, bounds in variable_bounds.items():\n",
    "    print(f\"{variable} - Bounds: {bounds}\")\n"
   ]
  },
  {
   "cell_type": "code",
   "execution_count": 77,
   "id": "ce911334",
   "metadata": {},
   "outputs": [
    {
     "name": "stdout",
     "output_type": "stream",
     "text": [
      "Initial Mix Design Variables:\n",
      "age: 32.51493305870237\n",
      "cement: 278.07723995880514\n",
      "water: 179.79124613800204\n",
      "fly_ash: 57.48094747682802\n",
      "superplasticizer: 6.581668383110197\n",
      "blast_furnace_slag: 74.7761071060763\n",
      "coarse_aggregate: 972.9698249227599\n",
      "concrete_compressive_strength: 35.3109989701338\n",
      "fine_aggregate : 777.6901132852737\n"
     ]
    }
   ],
   "source": [
    "# Define the mix design variables for which you want to calculate initial values\n",
    "mix_design_variables = ['age', 'cement', 'water', 'fly_ash', 'superplasticizer', 'blast_furnace_slag', 'coarse_aggregate','concrete_compressive_strength','fine_aggregate ']\n",
    "\n",
    "# Calculate initial mix design variables (mean values)\n",
    "initial_mix_design = {}\n",
    "\n",
    "# Loop through each mix design variable and calculate the initial value\n",
    "for variable in mix_design_variables:\n",
    "    initial_value = df[variable].mean()\n",
    "    initial_mix_design[variable] = initial_value\n",
    "\n",
    "# Print the calculated initial mix design variables\n",
    "print(\"Initial Mix Design Variables:\")\n",
    "for variable, value in initial_mix_design.items():\n",
    "    print(f\"{variable}: {value}\")"
   ]
  },
  {
   "cell_type": "raw",
   "id": "1855c679",
   "metadata": {},
   "source": [
    "# from scipy.optimize import minimize\n",
    "\n",
    "# Define the objective function (negative resource efficiency)\n",
    "def negative_resource_efficiency(mix_design_variables):\n",
    "    \n",
    "    # Using best trained regression model (xgbr) to predict resource efficiency\n",
    "    predicted_efficiency = xgbr2.predict(np.array(mix_design_variables).reshape(1, -1))\n",
    "    # Return the negative of predicted efficiency for minimization\n",
    "    return -predicted_efficiency[0]\n",
    "\n",
    "# Define initial mix design variables\n",
    "initial_mix_design =[32.51493305870237,278.07723995880514,179.79124613800204,57.48094747682802,6.581668383110197,74.7761071060763]  # Adjust the number of elements to match bounds\n",
    "\n",
    "# Define bounds for mix design variables\n",
    "bounds = [(1, 120), (102.0, 540.0), (121.8, 247.0),(0.0, 200.1), (0.0, 32.2), (0.0, 359.4)]  # Adjust the number of elements to match initial_mix_design\n",
    "\n",
    "# Perform optimization\n",
    "result = minimize(negative_resource_efficiency, initial_mix_design, bounds=bounds)\n",
    "\n",
    "# Extract the optimal mix design\n",
    "optimal_mix_design = result.x\n",
    "\n",
    "# Calculate the actual resource efficiency for the optimal mix design\n",
    "actual_resource_efficiency = -result.fun  # Reverse the negation\n",
    "\n",
    "print(\"Optimal Mix Design:\", optimal_mix_design)\n",
    "print(\"Optimal Resource Efficiency:\", actual_resource_efficiency)\n"
   ]
  },
  {
   "cell_type": "markdown",
   "id": "ec60b344",
   "metadata": {},
   "source": [
    "# The optimal mix design of RAC that maximizes resource efficiency in this construction projects is ...\n",
    "\n",
    "- 75.54"
   ]
  },
  {
   "cell_type": "code",
   "execution_count": 78,
   "id": "9de3b89d",
   "metadata": {},
   "outputs": [
    {
     "name": "stdout",
     "output_type": "stream",
     "text": [
      "cement                            475.0\n",
      "blast_furnace_slag                  0.0\n",
      "fly_ash                             0.0\n",
      "water                             228.0\n",
      "superplasticizer                    0.0\n",
      "coarse_aggregate                  932.0\n",
      "fine_aggregate                    594.0\n",
      "age                                   7\n",
      "concrete_compressive_strength      38.6\n",
      "total_aggregate                  1526.0\n",
      "recycled_aggregate_proportion       0.0\n",
      "concrete_type                       RAC\n",
      "Name: 29, dtype: object\n"
     ]
    }
   ],
   "source": [
    "# Identify the optimal mix design\n",
    "optimal_mix_design = df.iloc[y_pred.argmax()]\n",
    "\n",
    "# Print the optimal mix design\n",
    "print(optimal_mix_design)"
   ]
  },
  {
   "cell_type": "code",
   "execution_count": 79,
   "id": "8f880e21",
   "metadata": {},
   "outputs": [
    {
     "name": "stdout",
     "output_type": "stream",
     "text": [
      "75.539604\n"
     ]
    }
   ],
   "source": [
    "# Calculate the optimal resource efficiency\n",
    "optimal_resource_efficiency = max(y_pred)\n",
    "\n",
    "print(optimal_resource_efficiency)"
   ]
  }
 ],
 "metadata": {
  "kernelspec": {
   "display_name": "Python 3 (ipykernel)",
   "language": "python",
   "name": "python3"
  },
  "language_info": {
   "codemirror_mode": {
    "name": "ipython",
    "version": 3
   },
   "file_extension": ".py",
   "mimetype": "text/x-python",
   "name": "python",
   "nbconvert_exporter": "python",
   "pygments_lexer": "ipython3",
   "version": "3.11.5"
  }
 },
 "nbformat": 4,
 "nbformat_minor": 5
}
